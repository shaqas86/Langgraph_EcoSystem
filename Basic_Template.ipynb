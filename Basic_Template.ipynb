{
  "nbformat": 4,
  "nbformat_minor": 0,
  "metadata": {
    "colab": {
      "provenance": [],
      "authorship_tag": "ABX9TyPCvxdOX/ZZr20vvlZRUQGk",
      "include_colab_link": true
    },
    "kernelspec": {
      "name": "python3",
      "display_name": "Python 3"
    },
    "language_info": {
      "name": "python"
    }
  },
  "cells": [
    {
      "cell_type": "markdown",
      "metadata": {
        "id": "view-in-github",
        "colab_type": "text"
      },
      "source": [
        "<a href=\"https://colab.research.google.com/github/shaqas86/Langgraph_EcoSystem/blob/main/Basic_Template.ipynb\" target=\"_parent\"><img src=\"https://colab.research.google.com/assets/colab-badge.svg\" alt=\"Open In Colab\"/></a>"
      ]
    },
    {
      "cell_type": "code",
      "execution_count": null,
      "metadata": {
        "id": "nKR_QBCcPpZm"
      },
      "outputs": [],
      "source": [
        "%%capture --no-stderr\n",
        "%pip install -U langgraph langsmith langchain_google_genai langchain_community"
      ]
    },
    {
      "cell_type": "code",
      "source": [
        "import os\n",
        "from google.colab import userdata\n",
        "\n",
        "os.environ[\"LANGCHAIN_API_KEY\"] = userdata.get('LANGCHAIN_API_KEY')\n",
        "os.environ[\"LANGCHAIN_TRACING_V2\"] = \"true\"\n",
        "os.environ[\"LANGCHAIN_PROJECT\"] = \"Basic_Template\"\n",
        "os.environ[\"TAVILY_API_KEY\"] = userdata.get('TAVILY_API_KEY')\n",
        "\n",
        "gemini_api_key = userdata.get('GEMINI_API_KEY')\n",
        "tavily_api_key = userdata.get('TAVILY_API_KEY')"
      ],
      "metadata": {
        "id": "vvmnMKo6P2YV"
      },
      "execution_count": null,
      "outputs": []
    },
    {
      "cell_type": "code",
      "source": [
        "from langchain_google_genai import ChatGoogleGenerativeAI\n",
        "\n",
        "llm = ChatGoogleGenerativeAI(\n",
        "    model=\"gemini-1.5-flash\",\n",
        "    max_retries=2,\n",
        "    api_key=gemini_api_key\n",
        ")\n",
        "\n",
        "llm.invoke(\"greet me\")"
      ],
      "metadata": {
        "colab": {
          "base_uri": "https://localhost:8080/"
        },
        "id": "W3NlNq1oP5-M",
        "outputId": "80152fe6-cba1-46ed-9881-7d11728a1e12"
      },
      "execution_count": null,
      "outputs": [
        {
          "output_type": "execute_result",
          "data": {
            "text/plain": [
              "AIMessage(content='Hello there!\\n', additional_kwargs={}, response_metadata={'prompt_feedback': {'block_reason': 0, 'safety_ratings': []}, 'finish_reason': 'STOP', 'safety_ratings': []}, id='run-41314e4c-03bf-49af-a50d-992fe1388db0-0', usage_metadata={'input_tokens': 3, 'output_tokens': 4, 'total_tokens': 7, 'input_token_details': {'cache_read': 0}})"
            ]
          },
          "metadata": {},
          "execution_count": 54
        }
      ]
    },
    {
      "cell_type": "code",
      "source": [
        "from typing_extensions import Annotated,TypedDict\n",
        "from langgraph.graph.message import add_messages\n",
        "\n",
        "class State(TypedDict):\n",
        "  messages:Annotated[list, add_messages]"
      ],
      "metadata": {
        "id": "DlsB_q1FRRsW"
      },
      "execution_count": null,
      "outputs": []
    },
    {
      "cell_type": "code",
      "source": [
        "# prompt: create node for chatbot which take State as parameter and invoke llm messages\n",
        "\n",
        "from typing import List, Dict, Any\n",
        "from langchain_core.messages import AIMessage, HumanMessage, SystemMessage\n",
        "\n",
        "def chatbot(state: State) -> State:\n",
        "    \"\"\"\n",
        "    Node to handle LLM interactions.\n",
        "    \"\"\"\n",
        "    print(\"---------------------------node1-------------------------\")\n",
        "    # Extract messages from the state\n",
        "    messages = state.get(\"messages\", [])  # Default to an empty list if \"messages\" is not in the state\n",
        "    # print (messages) #output = (user, hi)\n",
        "\n",
        "    sys_Msg: SystemMessage= [\"SystemMessage:You are a helpful assistant Chatbot.\"]\n",
        "\n",
        "    # print (\"Before changing in State>>>>>>>>>>>>>>>\", state)\n",
        "    messages= [state[\"messages\"],sys_Msg]\n",
        "    # print(\"All Messages List>>>>>>>>>>>>>>>>>>\",messages)\n",
        "    ########################\n",
        "    response = llm.invoke(state[\"messages\"])\n",
        "   # print(\"AI Message include>>>>>>>>>>>>>>>>>>>>>>\", response)\n",
        "    ########################\n",
        "    state[\"messages\"] = response\n",
        "    #print(\"After changing in State>>>>>>>>>>>>>>>\", state[\"messages\"])\n",
        "    return state"
      ],
      "metadata": {
        "id": "wqSDXvmvVgiI"
      },
      "execution_count": null,
      "outputs": []
    },
    {
      "cell_type": "code",
      "source": [
        "print (chatbot({\"messages\": [(\"user\", \"hi\")]}))"
      ],
      "metadata": {
        "colab": {
          "base_uri": "https://localhost:8080/"
        },
        "id": "8VKwtL9GWRm1",
        "outputId": "3c6ca751-6e25-4be0-fa6b-d1523bc4b7f1"
      },
      "execution_count": null,
      "outputs": [
        {
          "output_type": "stream",
          "name": "stdout",
          "text": [
            "---------------------------node1-------------------------\n",
            "{'messages': AIMessage(content='Hi there! How can I help you today?\\n', additional_kwargs={}, response_metadata={'prompt_feedback': {'block_reason': 0, 'safety_ratings': []}, 'finish_reason': 'STOP', 'safety_ratings': []}, id='run-ef837473-b1ab-41eb-84d3-67012b2cb5ef-0', usage_metadata={'input_tokens': 2, 'output_tokens': 11, 'total_tokens': 13, 'input_token_details': {'cache_read': 0}})}\n"
          ]
        }
      ]
    },
    {
      "cell_type": "code",
      "source": [
        "from langgraph.graph import StateGraph,START,END\n",
        "graph_builder = StateGraph(State)\n",
        "graph_builder.add_node(\"ChatBot\" , chatbot)\n",
        "graph_builder.add_edge(START, \"ChatBot\")\n",
        "graph_builder.add_edge(\"ChatBot\", END)\n",
        "graph = graph_builder.compile()"
      ],
      "metadata": {
        "id": "1AoNZfoOccKu"
      },
      "execution_count": null,
      "outputs": []
    },
    {
      "cell_type": "code",
      "source": [
        "from IPython.display import display, Image\n",
        "try:\n",
        "  display(Image(graph.get_graph().draw_mermaid_png()))\n",
        "\n",
        "except Exception as e:\n",
        "  pass"
      ],
      "metadata": {
        "colab": {
          "base_uri": "https://localhost:8080/",
          "height": 251
        },
        "id": "-lU5fqJDdrGv",
        "outputId": "26f55641-9914-4bc3-def6-291362385147"
      },
      "execution_count": null,
      "outputs": [
        {
          "output_type": "display_data",
          "data": {
            "image/png": "[encoded data removed]",
            "text/plain": [
              "<IPython.core.display.Image object>"
            ]
          },
          "metadata": {}
        }
      ]
    },
    {
      "cell_type": "code",
      "source": [
        "from pprint import pprint\n",
        "res= graph.invoke({\"messages\":[(\"user\",\"i am shaqas\")]})\n",
        "pprint(res[\"messages\"])\n"
      ],
      "metadata": {
        "colab": {
          "base_uri": "https://localhost:8080/"
        },
        "id": "SWd0rRAcesCk",
        "outputId": "934b3c6a-b5e7-4a1e-f40e-54b33fa99e94"
      },
      "execution_count": null,
      "outputs": [
        {
          "output_type": "stream",
          "name": "stdout",
          "text": [
            "---------------------------node1-------------------------\n",
            "[HumanMessage(content='i am shaqas', additional_kwargs={}, response_metadata={}, id='c75b9954-b934-4e3a-9c18-072b16e4742f'),\n",
            " AIMessage(content=\"It's nice to meet you, Shaqas.  Is there anything I can help you with today?\\n\", additional_kwargs={}, response_metadata={'prompt_feedback': {'block_reason': 0, 'safety_ratings': []}, 'finish_reason': 'STOP', 'safety_ratings': []}, id='run-9c1dbe84-894f-4da0-b873-629fa6d84198-0', usage_metadata={'input_tokens': 5, 'output_tokens': 23, 'total_tokens': 28, 'input_token_details': {'cache_read': 0}})]\n"
          ]
        }
      ]
    },
    {
      "cell_type": "code",
      "source": [
        "r=res[\"messages\"][-1].content"
      ],
      "metadata": {
        "id": "bAgAj9-PftSx"
      },
      "execution_count": null,
      "outputs": []
    },
    {
      "cell_type": "code",
      "source": [
        "import pprint\n",
        "pprint.pprint(r)"
      ],
      "metadata": {
        "colab": {
          "base_uri": "https://localhost:8080/"
        },
        "id": "lGJ2rnSJgZMq",
        "outputId": "a5710742-6dc5-4145-bffa-5cb533a76b21"
      },
      "execution_count": null,
      "outputs": [
        {
          "output_type": "stream",
          "name": "stdout",
          "text": [
            "\"It's nice to meet you, Shaqas.  Is there anything I can help you with today?\\n\"\n"
          ]
        }
      ]
    },
    {
      "cell_type": "code",
      "source": [
        "# res= graph.stream({\"messages\":[(\"user\",\"i am shaqas\")]})\n",
        "# for event in res:\n",
        "#   for value in event.values():\n",
        "#     print(\"Assistant:\", value[\"messages\"][-1].content)\n"
      ],
      "metadata": {
        "id": "bj0GcYJEhPvY"
      },
      "execution_count": null,
      "outputs": []
    },
    {
      "cell_type": "code",
      "source": [
        "#Invoking Parameter for dynamic input\n",
        "def stream_graph_updates(user_input: str):\n",
        "    for event in graph.stream({\"messages\": [(\"user\", user_input)]}):\n",
        "        for value in event.values():\n",
        "            # Ensure `messages` key exists and contains an `AIMessage`\n",
        "            message = value.get(\"messages\")\n",
        "            print(\"Assistant:\", message.content)\n",
        "            # if isinstance(message, AIMessage):\n",
        "            #     print(\"Assistant:\", message.content)\n",
        "            # else:\n",
        "            #     print(\"Assistant: No valid response available.\")\n",
        "\n",
        "while True:\n",
        "    try:\n",
        "        user_input = input(\"User: \")\n",
        "        if user_input.lower() in [\"quit\", \"exit\", \"q\"]:\n",
        "            print(\"Goodbye!\")\n",
        "            break\n",
        "\n",
        "        stream_graph_updates(user_input)\n",
        "    except Exception as e:\n",
        "        print(f\"An error occurred: {e}\")\n",
        "        break\n"
      ],
      "metadata": {
        "colab": {
          "base_uri": "https://localhost:8080/"
        },
        "id": "OpgMlWTVrNMr",
        "outputId": "e337a5d7-f357-4b11-fa28-1ce67a2a4791"
      },
      "execution_count": null,
      "outputs": [
        {
          "output_type": "stream",
          "name": "stdout",
          "text": [
            "User: hih\n",
            "---------------------------node1-------------------------\n",
            "Assistant: hih\n",
            "\n",
            "User: 2 plus 2\n",
            "---------------------------node1-------------------------\n",
            "Assistant: 2 + 2 = 4\n",
            "\n",
            "User: what is my name\n",
            "---------------------------node1-------------------------\n",
            "Assistant: I do not know your name.  I have no access to personal information about you unless you explicitly provide it to me.\n",
            "\n",
            "User: q\n",
            "Goodbye!\n"
          ]
        }
      ]
    },
    {
      "cell_type": "code",
      "source": [
        "%%capture --no-stderr\n",
        "%pip install -U tavily-python langchain_community"
      ],
      "metadata": {
        "id": "E9h5ci88fsX0"
      },
      "execution_count": null,
      "outputs": []
    },
    {
      "cell_type": "code",
      "source": [
        "import os\n",
        "from google.colab import userdata\n",
        "os.environ[\"TAVILY_API_KEY\"] = userdata.get('TAVILY_API_KEY')\n",
        "tavily_api_key = userdata.get('TAVILY_API_KEY')"
      ],
      "metadata": {
        "id": "iyFd_mNugDn0"
      },
      "execution_count": null,
      "outputs": []
    },
    {
      "cell_type": "code",
      "source": [
        "from langchain_community.tools.tavily_search import TavilySearchResults\n",
        "\n",
        "tool = TavilySearchResults(max_results=2)\n",
        "tools = [tool]\n",
        "tool.invoke(\"What's a 'node' in LangGraph?\")"
      ],
      "metadata": {
        "colab": {
          "base_uri": "https://localhost:8080/"
        },
        "id": "Y6rjiAjSgVbQ",
        "outputId": "bf5e2516-ec56-4a32-c773-f8404f715c63"
      },
      "execution_count": null,
      "outputs": [
        {
          "output_type": "execute_result",
          "data": {
            "text/plain": [
              "[{'url': 'https://medium.com/@cplog/introduction-to-langgraph-a-beginners-guide-14f9be027141',\n",
              "  'content': 'Nodes: Nodes are the building blocks of your LangGraph. Each node represents a function or a computation step. You define nodes to perform specific tasks, such as processing input, making'},\n",
              " {'url': 'https://www.datacamp.com/tutorial/langgraph-tutorial',\n",
              "  'content': \"In LangGraph, each node represents an LLM agent, and the edges are the communication channels between these agents. This structure allows for clear and manageable workflows, where each agent performs specific tasks and passes information to other agents as needed. State management. One of LangGraph's standout features is its automatic state\"}]"
            ]
          },
          "metadata": {},
          "execution_count": 71
        }
      ]
    },
    {
      "cell_type": "code",
      "source": [
        "llm_with_tools = llm.bind_tools(tools)\n",
        "# llm_with_tools.invoke(\"What's a 'node' in LangGraph?\")"
      ],
      "metadata": {
        "id": "INREL_x-irc1"
      },
      "execution_count": null,
      "outputs": []
    },
    {
      "cell_type": "code",
      "source": [
        "# prompt: create node for chatbot which take State as parameter and invoke llm messages\n",
        "\n",
        "from typing import List, Dict, Any\n",
        "from langchain_core.messages import AIMessage, HumanMessage, SystemMessage\n",
        "\n",
        "def chatbot(state: State) -> State:\n",
        "    \"\"\"\n",
        "    Node to handle LLM interactions and for real time information use tool node.\n",
        "    \"\"\"\n",
        "    print(\"---------------------------node1-------------------------\")\n",
        "    # Extract messages from the state\n",
        "    messages = state.get(\"messages\", [])  # Default to an empty list if \"messages\" is not in the state\n",
        "    # print (messages) #output = (user, hi)\n",
        "\n",
        "    sys_Msg: SystemMessage= [\"\"\"SystemMessage:You are a helpful assistant Chatbot.\n",
        "    for real time information then go to the tool\n",
        "            call if needed else handle general assistant quries \"\"\"]\n",
        "\n",
        "    # print (\"Before changing in State>>>>>>>>>>>>>>>\", state)\n",
        "    messages= [state[\"messages\"],sys_Msg]\n",
        "    # print(\"All Messages List>>>>>>>>>>>>>>>>>>\",messages)\n",
        "    ########################\n",
        "    response = llm_with_tools.invoke(state[\"messages\"])\n",
        "   # print(\"AI Message include>>>>>>>>>>>>>>>>>>>>>>\", response)\n",
        "    ######################## Store updated state messages in response###########\n",
        "    state[\"messages\"] = response\n",
        "    #print(\"After changing in State>>>>>>>>>>>>>>>\", state[\"messages\"])\n",
        "    return state"
      ],
      "metadata": {
        "id": "qFjPrmsojd8w"
      },
      "execution_count": null,
      "outputs": []
    },
    {
      "cell_type": "code",
      "source": [
        "def route_tools(state: State):\n",
        "    \"\"\"\n",
        "    Use in the conditional_edge to route to the ToolNode if the last message\n",
        "    has tool calls. Otherwise, route to the end.\n",
        "    \"\"\"\n",
        "    if isinstance(state, list):\n",
        "        ai_message = state[-1]\n",
        "    elif messages := state.get(\"messages\", []):\n",
        "        ai_message = messages[-1]\n",
        "    else:\n",
        "        raise ValueError(f\"No messages found in input state to tool_edge: {state}\")\n",
        "       #either route to tool call or end on the basis of ai_message\n",
        "    if hasattr(ai_message, \"tool_calls\") and len(ai_message.tool_calls) > 0:\n",
        "        return \"tools\"\n",
        "    return END\n",
        "\n",
        "\n",
        "# The tools_condition function returns \"tools\" if the chatbot asks to use a tool, and \"END\" if\n",
        "# it is fine directly responding. This conditional routing defines the main agent loop.\n",
        "\n"
      ],
      "metadata": {
        "id": "xszjGeWTlwya"
      },
      "execution_count": null,
      "outputs": []
    },
    {
      "cell_type": "code",
      "source": [
        "from langgraph.graph import StateGraph,START,END\n",
        "from langgraph.prebuilt import ToolNode\n",
        "graph_builder = StateGraph(State)\n",
        "#nodes\n",
        "graph_builder.add_node(\"chatbot\" , chatbot)\n",
        "graph_builder.add_node(\"tools\", ToolNode(tools=tools))\n",
        "#edges\n",
        "graph_builder.add_edge(START, \"chatbot\")\n",
        "graph_builder.add_conditional_edges(\n",
        "    \"chatbot\",\n",
        "    route_tools,\n",
        "    # The following dictionary lets you tell the graph to interpret the condition's outputs as a specific node\n",
        "    # It defaults to the identity function, but if you\n",
        "    # want to use a node named something else apart from \"tools\",\n",
        "    # You can update the value of the dictionary to something else\n",
        "    # e.g., \"tools\": \"my_tools\"\n",
        "     {\"tools\": \"tools\", END: END}\n",
        ")\n",
        "# Any time a tool is called, we return to the chatbot to decide the next step\n",
        "graph_builder.add_edge(\"tools\", \"chatbot\") # react agent from tools back to chatbot\n",
        "graph_builder.add_edge(\"chatbot\", END)\n"
      ],
      "metadata": {
        "colab": {
          "base_uri": "https://localhost:8080/"
        },
        "id": "4VdaSP6-jzvP",
        "outputId": "edb93535-01f9-4f85-a37c-68370fe9e479"
      },
      "execution_count": null,
      "outputs": [
        {
          "output_type": "execute_result",
          "data": {
            "text/plain": [
              "<langgraph.graph.state.StateGraph at 0x7c998ce37250>"
            ]
          },
          "metadata": {},
          "execution_count": 42
        }
      ]
    },
    {
      "cell_type": "code",
      "source": [
        "from langgraph.checkpoint import memory\n",
        "memory = memory.MemorySaver()\n",
        "graph = graph_builder.compile(memory)\n",
        "config = {\"configurable\":{\"thread_id\":\"1\"}}"
      ],
      "metadata": {
        "id": "k9AGq6Ii35UT"
      },
      "execution_count": null,
      "outputs": []
    },
    {
      "cell_type": "code",
      "source": [
        "from IPython.display import display, Image\n",
        "try:\n",
        "  display(Image(graph.get_graph().draw_mermaid_png()))\n",
        "\n",
        "except Exception as e:\n",
        "  pass"
      ],
      "metadata": {
        "colab": {
          "base_uri": "https://localhost:8080/",
          "height": 266
        },
        "id": "tz66w_MJlabc",
        "outputId": "0c46747a-0120-4764-c1e6-0777e00a7d05"
      },
      "execution_count": null,
      "outputs": [
        {
          "output_type": "display_data",
          "data": {
            "image/png": "[encoded data removed]",
            "text/plain": [
              "<IPython.core.display.Image object>"
            ]
          },
          "metadata": {}
        }
      ]
    },
    {
      "cell_type": "code",
      "source": [
        "user_input = \"Hi there! what is the bitcoin real time price today search online search through tavily\"\n",
        "\n",
        "# The config is the *second positional argument* to stream() or invoke()!\n",
        "events = graph.stream(\n",
        "    {\"messages\": [(\"user\", user_input)]}, config, stream_mode=\"values\"\n",
        ")\n",
        "for event in events:\n",
        "    event[\"messages\"][-1].pretty_print()"
      ],
      "metadata": {
        "colab": {
          "base_uri": "https://localhost:8080/"
        },
        "collapsed": true,
        "id": "sT7KSJrI4_MV",
        "outputId": "a49eb02c-9263-4a66-b3b4-44d7efdf8c56"
      },
      "execution_count": null,
      "outputs": [
        {
          "output_type": "stream",
          "name": "stdout",
          "text": [
            "================================\u001b[1m Human Message \u001b[0m=================================\n",
            "\n",
            "Hi there! what is the bitcoin real time price today search online search through tavily\n",
            "---------------------------node1-------------------------\n",
            "==================================\u001b[1m Ai Message \u001b[0m==================================\n",
            "Tool Calls:\n",
            "  tavily_search_results_json (61a54c39-8eea-4acc-9e18-65f79da49798)\n",
            " Call ID: 61a54c39-8eea-4acc-9e18-65f79da49798\n",
            "  Args:\n",
            "    query: Bitcoin real time price\n",
            "=================================\u001b[1m Tool Message \u001b[0m=================================\n",
            "Name: tavily_search_results_json\n",
            "\n",
            "[{\"url\": \"https://coinmarketcap.com/currencies/bitcoin/\", \"content\": \"The live Bitcoin price today is $96,591.96 USD with a 24-hour trading volume of $96,288,414,355 USD. We update our BTC to USD price in real-time. Bitcoin is down 2.96% in the last 24 hours. The current CoinMarketCap ranking is #1, with a live market cap of $1,912,373,999,233 USD.\"}, {\"url\": \"https://www.coindesk.com/price/bitcoin\", \"content\": \"The price of Bitcoin (BTC) is $99,362.23 today as of Dec 12, 2024, 2:49 pm EST, with a 24-hour trading volume of $38.73B. Bitcoin news, USD price, real-time (live) charts.\"}]\n",
            "---------------------------node1-------------------------\n",
            "==================================\u001b[1m Ai Message \u001b[0m==================================\n",
            "\n",
            "Based on the data I found, the real-time price of Bitcoin is fluctuating.  One source shows it at approximately $96,591.96 USD, while another shows it at $99,362.23 USD.  Both sources show it has decreased slightly in the last 24 hours.  The exact price will vary depending on the exchange and the time of your query.\n"
          ]
        }
      ]
    },
    {
      "cell_type": "code",
      "source": [
        "snapshot = graph.get_state(config)\n",
        "print(snapshot)"
      ],
      "metadata": {
        "colab": {
          "base_uri": "https://localhost:8080/"
        },
        "id": "VOjC1yTY5eJ5",
        "outputId": "3512b7a7-b782-4fee-cad2-51d08a4705fb"
      },
      "execution_count": null,
      "outputs": [
        {
          "output_type": "stream",
          "name": "stdout",
          "text": [
            "StateSnapshot(values={'messages': [HumanMessage(content='have you function call or tool call', additional_kwargs={}, response_metadata={}, id='42db55ba-c082-4690-8cc0-87d2ebbb74dd'), AIMessage(content=['Yes, I can make function calls.  I have access to the `default_api` with the function `tavily_search_results_json`.  I can use this to perform searches.  For example, to search for \"weather in London\", I would use the following code:\\n\\n', '\\n\\nHowever, note that the provided `default_api` lacks an implementation, so it will not return any actual results.  To get real results, a proper implementation would need to be added.\\n'], additional_kwargs={'function_call': {'name': 'tavily_search_results_json', 'arguments': '{\"query\": \"weather in London\"}'}}, response_metadata={'prompt_feedback': {'block_reason': 0, 'safety_ratings': []}, 'finish_reason': 'STOP', 'safety_ratings': []}, id='run-67b9bda1-7c5a-4849-912d-bc6092db4d72-0', tool_calls=[{'name': 'tavily_search_results_json', 'args': {'query': 'weather in London'}, 'id': '444fb9df-8522-4539-abb7-17b708ce1e7f', 'type': 'tool_call'}], usage_metadata={'input_tokens': 81, 'output_tokens': 114, 'total_tokens': 195, 'input_token_details': {'cache_read': 0}}), ToolMessage(content='[{\"url\": \"https://www.weatherapi.com/\", \"content\": \"{\\'location\\': {\\'name\\': \\'London\\', \\'region\\': \\'City of London, Greater London\\', \\'country\\': \\'United Kingdom\\', \\'lat\\': 51.5171, \\'lon\\': -0.1062, \\'tz_id\\': \\'Europe/London\\', \\'localtime_epoch\\': 1735063304, \\'localtime\\': \\'2024-12-24 18:01\\'}, \\'current\\': {\\'last_updated_epoch\\': 1735063200, \\'last_updated\\': \\'2024-12-24 18:00\\', \\'temp_c\\': 9.5, \\'temp_f\\': 49.1, \\'is_day\\': 0, \\'condition\\': {\\'text\\': \\'Mist\\', \\'icon\\': \\'//cdn.weatherapi.com/weather/64x64/night/143.png\\', \\'code\\': 1030}, \\'wind_mph\\': 4.5, \\'wind_kph\\': 7.2, \\'wind_degree\\': 260, \\'wind_dir\\': \\'W\\', \\'pressure_mb\\': 1028.0, \\'pressure_in\\': 30.34, \\'precip_mm\\': 0.0, \\'precip_in\\': 0.0, \\'humidity\\': 96, \\'cloud\\': 43, \\'feelslike_c\\': 8.6, \\'feelslike_f\\': 47.5, \\'windchill_c\\': 8.6, \\'windchill_f\\': 47.5, \\'heatindex_c\\': 9.5, \\'heatindex_f\\': 49.1, \\'dewpoint_c\\': 9.0, \\'dewpoint_f\\': 48.1, \\'vis_km\\': 2.0, \\'vis_miles\\': 1.0, \\'uv\\': 0.0, \\'gust_mph\\': 9.0, \\'gust_kph\\': 14.5}}\"}, {\"url\": \"https://www.easeweather.com/europe/united-kingdom/england/greater-london/london/december\", \"content\": \"According to London snow forecast for December 2024, no snow is expected until the end of the month. Temperatures; So far, December 2024 in London is slightly warmer than the historical average by 1.5 ° C. The forecast for the next days in London predicts temperatures to be around 8 ° C, close to the historical average.\"}]', name='tavily_search_results_json', id='793b893b-7034-45b8-94b7-4b6c56cbe270', tool_call_id='444fb9df-8522-4539-abb7-17b708ce1e7f', artifact={'query': 'weather in London', 'follow_up_questions': None, 'answer': None, 'images': [], 'results': [{'title': 'Weather in London', 'url': 'https://www.weatherapi.com/', 'content': \"{'location': {'name': 'London', 'region': 'City of London, Greater London', 'country': 'United Kingdom', 'lat': 51.5171, 'lon': -0.1062, 'tz_id': 'Europe/London', 'localtime_epoch': 1735063304, 'localtime': '2024-12-24 18:01'}, 'current': {'last_updated_epoch': 1735063200, 'last_updated': '2024-12-24 18:00', 'temp_c': 9.5, 'temp_f': 49.1, 'is_day': 0, 'condition': {'text': 'Mist', 'icon': '//cdn.weatherapi.com/weather/64x64/night/143.png', 'code': 1030}, 'wind_mph': 4.5, 'wind_kph': 7.2, 'wind_degree': 260, 'wind_dir': 'W', 'pressure_mb': 1028.0, 'pressure_in': 30.34, 'precip_mm': 0.0, 'precip_in': 0.0, 'humidity': 96, 'cloud': 43, 'feelslike_c': 8.6, 'feelslike_f': 47.5, 'windchill_c': 8.6, 'windchill_f': 47.5, 'heatindex_c': 9.5, 'heatindex_f': 49.1, 'dewpoint_c': 9.0, 'dewpoint_f': 48.1, 'vis_km': 2.0, 'vis_miles': 1.0, 'uv': 0.0, 'gust_mph': 9.0, 'gust_kph': 14.5}}\", 'score': 0.9659346, 'raw_content': None}, {'title': 'Weather in London in December 2024 - Detailed Forecast', 'url': 'https://www.easeweather.com/europe/united-kingdom/england/greater-london/london/december', 'content': 'According to London snow forecast for December 2024, no snow is expected until the end of the month. Temperatures; So far, December 2024 in London is slightly warmer than the historical average by 1.5 ° C. The forecast for the next days in London predicts temperatures to be around 8 ° C, close to the historical average.', 'score': 0.9492242, 'raw_content': None}], 'response_time': 2.36}), AIMessage(content='The weather in London is currently 9.5°C (49.1°F), with mist.  The wind is blowing from the west at 7.2 kph (4.5 mph).  Humidity is 96%, and visibility is 1 mile.  No snow is expected until the end of December.\\n', additional_kwargs={}, response_metadata={'prompt_feedback': {'block_reason': 0, 'safety_ratings': []}, 'finish_reason': 'STOP', 'safety_ratings': []}, id='run-d1c51f6c-990c-447c-a847-9210a88a9a69-0', usage_metadata={'input_tokens': 766, 'output_tokens': 70, 'total_tokens': 836, 'input_token_details': {'cache_read': 0}}), HumanMessage(content='Hi there! what is the bitcoin real time price today search online search through tavily', additional_kwargs={}, response_metadata={}, id='af426fab-8cf0-4525-a34b-6decd7cd9540'), AIMessage(content='', additional_kwargs={'function_call': {'name': 'tavily_search_results_json', 'arguments': '{\"query\": \"Bitcoin real time price\"}'}}, response_metadata={'prompt_feedback': {'block_reason': 0, 'safety_ratings': []}, 'finish_reason': 'STOP', 'safety_ratings': []}, id='run-3a979d8c-6c53-465b-8edc-9a3b3af6e492-0', tool_calls=[{'name': 'tavily_search_results_json', 'args': {'query': 'Bitcoin real time price'}, 'id': '61a54c39-8eea-4acc-9e18-65f79da49798', 'type': 'tool_call'}], usage_metadata={'input_tokens': 855, 'output_tokens': 13, 'total_tokens': 868, 'input_token_details': {'cache_read': 0}}), ToolMessage(content='[{\"url\": \"https://coinmarketcap.com/currencies/bitcoin/\", \"content\": \"The live Bitcoin price today is $96,591.96 USD with a 24-hour trading volume of $96,288,414,355 USD. We update our BTC to USD price in real-time. Bitcoin is down 2.96% in the last 24 hours. The current CoinMarketCap ranking is #1, with a live market cap of $1,912,373,999,233 USD.\"}, {\"url\": \"https://www.coindesk.com/price/bitcoin\", \"content\": \"The price of Bitcoin (BTC) is $99,362.23 today as of Dec 12, 2024, 2:49 pm EST, with a 24-hour trading volume of $38.73B. Bitcoin news, USD price, real-time (live) charts.\"}]', name='tavily_search_results_json', id='5f4b7ef3-5b7b-4538-ae20-6218e9371969', tool_call_id='61a54c39-8eea-4acc-9e18-65f79da49798', artifact={'query': 'Bitcoin real time price', 'follow_up_questions': None, 'answer': None, 'images': [], 'results': [{'title': 'Bitcoin price today, BTC to USD live price, marketcap and chart ...', 'url': 'https://coinmarketcap.com/currencies/bitcoin/', 'content': 'The live Bitcoin price today is $96,591.96 USD with a 24-hour trading volume of $96,288,414,355 USD. We update our BTC to USD price in real-time. Bitcoin is down 2.96% in the last 24 hours. The current CoinMarketCap ranking is #1, with a live market cap of $1,912,373,999,233 USD.', 'score': 0.8947989, 'raw_content': None}, {'title': 'Bitcoin Price | BTC to USD Price Index and Live Chart - CoinDesk', 'url': 'https://www.coindesk.com/price/bitcoin', 'content': 'The price of Bitcoin (BTC) is $99,362.23 today as of Dec 12, 2024, 2:49 pm EST, with a 24-hour trading volume of $38.73B. Bitcoin news, USD price, real-time (live) charts.', 'score': 0.8266142, 'raw_content': None}], 'response_time': 3.17}), AIMessage(content='Based on the data I found, the real-time price of Bitcoin is fluctuating.  One source shows it at approximately $96,591.96 USD, while another shows it at $99,362.23 USD.  Both sources show it has decreased slightly in the last 24 hours.  The exact price will vary depending on the exchange and the time of your query.\\n', additional_kwargs={}, response_metadata={'prompt_feedback': {'block_reason': 0, 'safety_ratings': []}, 'finish_reason': 'STOP', 'safety_ratings': []}, id='run-17e24bf6-5658-4738-983a-a14de2d18ca5-0', usage_metadata={'input_tokens': 1124, 'output_tokens': 87, 'total_tokens': 1211, 'input_token_details': {'cache_read': 0}})]}, next=(), config={'configurable': {'thread_id': '1', 'checkpoint_ns': '', 'checkpoint_id': '1efc225a-2179-6127-8008-964052f90a6d'}}, metadata={'source': 'loop', 'writes': {'chatbot': {'messages': AIMessage(content='Based on the data I found, the real-time price of Bitcoin is fluctuating.  One source shows it at approximately $96,591.96 USD, while another shows it at $99,362.23 USD.  Both sources show it has decreased slightly in the last 24 hours.  The exact price will vary depending on the exchange and the time of your query.\\n', additional_kwargs={}, response_metadata={'prompt_feedback': {'block_reason': 0, 'safety_ratings': []}, 'finish_reason': 'STOP', 'safety_ratings': []}, id='run-17e24bf6-5658-4738-983a-a14de2d18ca5-0', usage_metadata={'input_tokens': 1124, 'output_tokens': 87, 'total_tokens': 1211, 'input_token_details': {'cache_read': 0}})}}, 'thread_id': '1', 'step': 8, 'parents': {}}, created_at='2024-12-24T18:33:56.080643+00:00', parent_config={'configurable': {'thread_id': '1', 'checkpoint_ns': '', 'checkpoint_id': '1efc225a-1888-6ecf-8007-5a132e010782'}}, tasks=())\n"
          ]
        }
      ]
    },
    {
      "cell_type": "code",
      "source": [
        "snapshot.next"
      ],
      "metadata": {
        "colab": {
          "base_uri": "https://localhost:8080/"
        },
        "id": "7wjFlCKj6AjB",
        "outputId": "f455f972-5747-4e0c-e17f-82a50e8a1153"
      },
      "execution_count": null,
      "outputs": [
        {
          "output_type": "execute_result",
          "data": {
            "text/plain": [
              "()"
            ]
          },
          "metadata": {},
          "execution_count": 48
        }
      ]
    },
    {
      "cell_type": "code",
      "source": [
        "#Invoking Parameter for dynamic input\n",
        "def stream_graph_updates(user_input: str):\n",
        "    for event in graph.stream({\"messages\": [(\"user\", user_input)]},config, stream_mode= \"values\"):\n",
        "        for value in event.values():\n",
        "           event[\"messages\"][-1].pretty_print()\n",
        "\n",
        "while True:\n",
        "    try:\n",
        "        user_input = input(\"User: \")\n",
        "        if user_input.lower() in [\"quit\", \"exit\", \"q\"]:\n",
        "            print(\"Goodbye!\")\n",
        "            break\n",
        "\n",
        "        stream_graph_updates(user_input)\n",
        "    except Exception as e:\n",
        "        print(f\"An error occurred: {e}\")\n",
        "        break\n"
      ],
      "metadata": {
        "colab": {
          "base_uri": "https://localhost:8080/"
        },
        "collapsed": true,
        "id": "NQ50FjO7uPgI",
        "outputId": "66308ab6-1e26-438a-ce7e-6e6ca32babb5"
      },
      "execution_count": null,
      "outputs": [
        {
          "output_type": "stream",
          "name": "stdout",
          "text": [
            "User: what is my name\n",
            "================================\u001b[1m Human Message \u001b[0m=================================\n",
            "\n",
            "what is my name\n",
            "---------------------------node1-------------------------\n",
            "==================================\u001b[1m Ai Message \u001b[0m==================================\n",
            "\n",
            "I do not have access to personal information about you, including your name.  I only know what you tell me in our current conversation.\n",
            "User: ok my name is shaqas\n",
            "================================\u001b[1m Human Message \u001b[0m=================================\n",
            "\n",
            "ok my name is shaqas\n",
            "---------------------------node1-------------------------\n",
            "==================================\u001b[1m Ai Message \u001b[0m==================================\n",
            "\n",
            "Okay, Shaqas.  It's nice to meet you.\n",
            "User: tell me about the cricket match series between pakistan vs south africa\n",
            "================================\u001b[1m Human Message \u001b[0m=================================\n",
            "\n",
            "tell me about the cricket match series between pakistan vs south africa\n",
            "---------------------------node1-------------------------\n",
            "==================================\u001b[1m Ai Message \u001b[0m==================================\n",
            "Tool Calls:\n",
            "  tavily_search_results_json (ad22e0f2-745e-4173-abe8-9c57cbf0b97a)\n",
            " Call ID: ad22e0f2-745e-4173-abe8-9c57cbf0b97a\n",
            "  Args:\n",
            "    query: cricket match series between pakistan vs south africa\n",
            "=================================\u001b[1m Tool Message \u001b[0m=================================\n",
            "Name: tavily_search_results_json\n",
            "\n",
            "[{\"url\": \"https://www.sportskeeda.com/cricket/south-africa-vs-pakistan-2024-odi-series-full-schedule-squads-match-timings-live-streaming-details\", \"content\": \"The much-awaited South Africa vs Pakistan 2024 ODI series will start on December 17 at Boland Park. It is the first time in 22 years that Paarl will host an ODI match between South Africa and\"}, {\"url\": \"https://www.business-standard.com/cricket/news/pakistan-vs-south-africa-tests-full-schedule-live-timings-ist-streaming-124122300592_1.html\", \"content\": \"However, Mohammad Rizwan-led Pakistan bounced back strongly in the three-match ODI series, which saw them record their first-ever whitewash over South Africa in ODI cricket in the Rainbow Nation. With the white-ball cricket part done and dusted, both teams will now focus on the red ball in an all-important two-match Test series starting\"}]\n",
            "---------------------------node1-------------------------\n",
            "==================================\u001b[1m Ai Message \u001b[0m==================================\n",
            "\n",
            "I need more specifics to give you a complete answer.  My search results indicate there have been recent ODI and Test series between Pakistan and South Africa.  To tell you about a *specific* series, please tell me:\n",
            "\n",
            "* **Which series are you interested in?** (e.g., the recent ODI series, a past series, the upcoming Test series, etc.)\n",
            "* **What information do you want?** (e.g., match results, scores, player performances, dates, venues, etc.)\n",
            "\n",
            "With more details, I can provide a more informative response.\n",
            "User: recent odi series\n",
            "================================\u001b[1m Human Message \u001b[0m=================================\n",
            "\n",
            "recent odi series\n",
            "---------------------------node1-------------------------\n",
            "==================================\u001b[1m Ai Message \u001b[0m==================================\n",
            "Tool Calls:\n",
            "  tavily_search_results_json (b293e9a5-7c9b-42b9-9945-788e629f575b)\n",
            " Call ID: b293e9a5-7c9b-42b9-9945-788e629f575b\n",
            "  Args:\n",
            "    query: recent odi series between pakistan and south africa\n",
            "=================================\u001b[1m Tool Message \u001b[0m=================================\n",
            "Name: tavily_search_results_json\n",
            "\n",
            "[{\"url\": \"https://www.pcb.com.pk/news-detail/saim-hits-century-as-pakistan-complete-odi-series-sweep-over-south-africa.html\", \"content\": \"Johannesburg, 23 December 2024: Pakistan completed a historic series sweep over South Africa winning the third and final ODI of the series by 36-runs in a 47-over rain-hit contest at the Wanderers Stadium, Johannesburg on Sunday night. South Africa, in pursuit of a 309-run target, were restricted for 271 all out in 42 overs.\"}, {\"url\": \"https://apnews.com/article/south-africa-pakistan-odi-cricket-31e7a3e7b0edc212aa5f47918b3d619b\", \"content\": \"JOHANNESBURG (AP) — Pakistan completed a 3-0 sweep of its ODI series against South Africa, winning the third match by 36 runs under the DLS method on Sunday. Opener Saim Ayub hit 101 runs in 94 balls as Pakistan scored 308-9 at the Wanderers in a game reduced to 47 overs by rain.\"}]\n",
            "---------------------------node1-------------------------\n",
            "==================================\u001b[1m Ai Message \u001b[0m==================================\n",
            "\n",
            "The recent ODI series between Pakistan and South Africa concluded with a 3-0 win for Pakistan.  Pakistan swept the series, winning all three matches.  Saim Ayub scored a century (101 runs) in the final match, which was shortened due to rain.\n",
            "User: what is my name\n",
            "================================\u001b[1m Human Message \u001b[0m=================================\n",
            "\n",
            "what is my name\n",
            "---------------------------node1-------------------------\n",
            "==================================\u001b[1m Ai Message \u001b[0m==================================\n",
            "\n",
            "Your name is Shaqas.\n",
            "User: q\n",
            "Goodbye!\n"
          ]
        }
      ]
    },
    {
      "cell_type": "code",
      "source": [
        "llm_with_tools = llm.bind_tools(tools)\n",
        "# llm_with_tools.invoke(\"What's a 'node' in LangGraph?\")"
      ],
      "metadata": {
        "id": "vtz_wpTxNwkT"
      },
      "execution_count": null,
      "outputs": []
    },
    {
      "cell_type": "code",
      "source": [
        "# prompt: create node for chatbot which take State as parameter and invoke llm messages\n",
        "\n",
        "from typing import List, Dict, Any\n",
        "from langchain_core.messages import AIMessage, HumanMessage, SystemMessage\n",
        "\n",
        "def chatbot(state: State) -> State:\n",
        "    \"\"\"\n",
        "    Node to handle LLM interactions and for real time information use tool node.\n",
        "    \"\"\"\n",
        "    print(\"---------------------------node1-------------------------\")\n",
        "    # Extract messages from the state\n",
        "    messages = state.get(\"messages\", [])  # Default to an empty list if \"messages\" is not in the state\n",
        "    # print (messages) #output = (user, hi)\n",
        "\n",
        "    sys_Msg: SystemMessage= [\"\"\"SystemMessage:You are a helpful assistant Chatbot.\n",
        "    for real time information then go to the tool\n",
        "            call if needed else handle general assistant quries \"\"\"]\n",
        "\n",
        "    # print (\"Before changing in State>>>>>>>>>>>>>>>\", state)\n",
        "    messages= [state[\"messages\"],sys_Msg]\n",
        "    # print(\"All Messages List>>>>>>>>>>>>>>>>>>\",messages)\n",
        "    ########################\n",
        "    response = llm_with_tools.invoke(state[\"messages\"])\n",
        "   # print(\"AI Message include>>>>>>>>>>>>>>>>>>>>>>\", response)\n",
        "    ########################\n",
        "    state[\"messages\"] = response\n",
        "    #print(\"After changing in State>>>>>>>>>>>>>>>\", state[\"messages\"])\n",
        "    return state"
      ],
      "metadata": {
        "id": "Rg2UrcncGBpL"
      },
      "execution_count": null,
      "outputs": []
    },
    {
      "cell_type": "code",
      "source": [
        "from langgraph.graph import StateGraph,START,END\n",
        "from langgraph.prebuilt import ToolNode, tools_condition\n",
        "from langgraph.checkpoint.memory import MemorySaver\n",
        "\n",
        "graph_builder = StateGraph(State)\n",
        "#nodes\n",
        "graph_builder.add_node(\"chatbot\" , chatbot)\n",
        "graph_builder.add_node(\"tools\", ToolNode(tools=[tool]))\n",
        "#edges\n",
        "graph_builder.add_edge(START, \"chatbot\")\n",
        "graph_builder.add_conditional_edges(\n",
        "    \"chatbot\",\n",
        "    tools_condition,\n",
        ")\n",
        "# Any time a tool is called, we return to the chatbot to decide the next step\n",
        "graph_builder.add_edge(\"tools\", \"chatbot\") # react agent from tools back to chatbot\n",
        "graph_builder.add_edge(START, \"chatbot\")\n",
        "\n",
        "memory = MemorySaver()\n",
        "graph = graph_builder.compile(\n",
        "    checkpointer=memory,\n",
        "    # This is new!\n",
        "    interrupt_before=[\"tools\"],\n",
        "    # Note: can also interrupt *after* actions, if desired.\n",
        "    # interrupt_after=[\"tools\"]\n",
        ")\n",
        "\n",
        "# user_input = \"I'm learning LangGraph. Could you do some research on it for me?\"\n",
        "# config = {\"configurable\": {\"thread_id\": \"2\"}}\n",
        "# # The config is the *second positional argument* to stream() or invoke()!\n",
        "# events = graph.stream({\"messages\": [(\"user\", user_input)]}, config)\n",
        "# for event in events:\n",
        "#     if \"messages\" in event:\n",
        "#         event[\"messages\"][-1].pretty_print()\n"
      ],
      "metadata": {
        "id": "sJ2Dfto8D0K9"
      },
      "execution_count": null,
      "outputs": []
    },
    {
      "cell_type": "code",
      "source": [
        "from IPython.display import display, Image\n",
        "try:\n",
        "  display(Image(graph.get_graph().draw_mermaid_png()))\n",
        "\n",
        "except Exception as e:\n",
        "  pass"
      ],
      "metadata": {
        "colab": {
          "base_uri": "https://localhost:8080/",
          "height": 308
        },
        "id": "i6eN9WT8CsfU",
        "outputId": "188b8f9b-9424-4745-d5d0-30d81869621e"
      },
      "execution_count": null,
      "outputs": [
        {
          "output_type": "display_data",
          "data": {
            "image/png": "[encoded data removed]",
            "text/plain": [
              "<IPython.core.display.Image object>"
            ]
          },
          "metadata": {}
        }
      ]
    },
    {
      "cell_type": "code",
      "source": [
        "from pprint import pprint\n",
        "snapshot= graph.get_state(config)\n",
        "existing_msg = snapshot.values[\"messages\"][-1]\n",
        "pprint(existing_msg)"
      ],
      "metadata": {
        "colab": {
          "base_uri": "https://localhost:8080/"
        },
        "id": "6c66_7-WJ4HY",
        "outputId": "72d55b4e-2146-4e03-cbdb-f02953458ca6"
      },
      "execution_count": null,
      "outputs": [
        {
          "output_type": "stream",
          "name": "stdout",
          "text": [
            "AIMessage(content='I am sorry, I do not have access to external websites or specific research papers, including those about LangGraph.  My knowledge about LangGraph is limited to what has been included in my training data.  To learn more about LangGraph, I suggest you search online using a search engine like Google, Bing, or DuckDuckGo.\\n', additional_kwargs={}, response_metadata={'prompt_feedback': {'block_reason': 0, 'safety_ratings': []}, 'finish_reason': 'STOP', 'safety_ratings': []}, id='run-6fb2fab8-e9db-4902-b1ba-056206d23096-0', usage_metadata={'input_tokens': 91, 'output_tokens': 69, 'total_tokens': 160, 'input_token_details': {'cache_read': 0}})\n"
          ]
        }
      ]
    },
    {
      "cell_type": "code",
      "source": [
        "#Invoking Parameter for dynamic input\n",
        "def stream_graph_updates(user_input: str):\n",
        "    for event in graph.stream({\"messages\": [(\"user\", user_input)]},config, stream_mode= \"values\"):\n",
        "        for value in event.values():\n",
        "           event[\"messages\"][-1].pretty_print()\n",
        "\n",
        "while True:\n",
        "    try:\n",
        "        user_input = input(\"User: \")\n",
        "        if user_input.lower() in [\"quit\", \"exit\", \"q\"]:\n",
        "            print(\"Goodbye!\")\n",
        "            break\n",
        "\n",
        "        stream_graph_updates(user_input)\n",
        "    except Exception as e:\n",
        "        print(f\"An error occurred: {e}\")\n",
        "        break\n"
      ],
      "metadata": {
        "colab": {
          "base_uri": "https://localhost:8080/"
        },
        "id": "GoXwKwmnH2Vg",
        "outputId": "67cafbe4-b079-4b2e-996d-9d9b8061be41",
        "collapsed": true
      },
      "execution_count": null,
      "outputs": [
        {
          "output_type": "stream",
          "name": "stdout",
          "text": [
            "User: hi\n",
            "================================\u001b[1m Human Message \u001b[0m=================================\n",
            "\n",
            "hi\n",
            "---------------------------node1-------------------------\n",
            "==================================\u001b[1m Ai Message \u001b[0m==================================\n",
            "\n",
            "Hello! How can I help you today?\n",
            "User: tell me about the weather of Gujranwala pakistan\n",
            "================================\u001b[1m Human Message \u001b[0m=================================\n",
            "\n",
            "tell me about the weather of Gujranwala pakistan\n",
            "---------------------------node1-------------------------\n",
            "==================================\u001b[1m Ai Message \u001b[0m==================================\n",
            "\n",
            "I am sorry, I cannot fulfill this request. I do not have access to real-time information, such as weather data.\n",
            "User: search through tavily\n",
            "================================\u001b[1m Human Message \u001b[0m=================================\n",
            "\n",
            "search through tavily\n",
            "---------------------------node1-------------------------\n",
            "==================================\u001b[1m Ai Message \u001b[0m==================================\n",
            "\n",
            "What would you like to search for using the `tavily_search_results_json` function?  Please provide a search query.\n",
            "User: tell me about the weather of pakistan muree\n",
            "================================\u001b[1m Human Message \u001b[0m=================================\n",
            "\n",
            "tell me about the weather of pakistan muree\n",
            "---------------------------node1-------------------------\n",
            "==================================\u001b[1m Ai Message \u001b[0m==================================\n",
            "\n",
            "I cannot directly provide weather information because I don't have access to real-time data sources.  To get the weather for Murree, Pakistan, you'll need to use a dedicated weather service or website.\n",
            "User: what can you do for me\n",
            "================================\u001b[1m Human Message \u001b[0m=================================\n",
            "\n",
            "what can you do for me\n",
            "---------------------------node1-------------------------\n",
            "==================================\u001b[1m Ai Message \u001b[0m==================================\n",
            "\n",
            "I can process information and respond to your requests in several ways,  but my capabilities are limited by the available tools.  Currently, I can:\n",
            "\n",
            "* **Answer your questions:** I can try to answer your questions based on the knowledge I've been trained on.  However, my knowledge is not up-to-date, and I don't have access to real-time information like current events or live data (e.g., weather, stock prices).\n",
            "\n",
            "* **Use the `tavily_search_results_json` function:** This function allows me to perform searches, but the results will depend on what the function is able to access.  I need a specific search query to use this function.\n",
            "\n",
            "* **Generate text:** I can create different creative text formats (poems, code, scripts, musical pieces, email, letters, etc.), but the quality will depend on the prompt and my training data.\n",
            "\n",
            "To best help you, please tell me what specific task or information you need.  The more detail you provide, the better I can assist.\n",
            "User: what is your default api\n",
            "================================\u001b[1m Human Message \u001b[0m=================================\n",
            "\n",
            "what is your default api\n",
            "---------------------------node1-------------------------\n",
            "==================================\u001b[1m Ai Message \u001b[0m==================================\n",
            "\n",
            "My default API is `default_api`.  It currently contains only one function: `tavily_search_results_json(query: str) -> dict`.  This function takes a search query as input and returns a dictionary containing search results.  However, the exact contents of the dictionary and the functionality of the search are not defined and I cannot access external websites or APIs to determine its behavior.\n",
            "User: use this default api and search the results\n",
            "================================\u001b[1m Human Message \u001b[0m=================================\n",
            "\n",
            "use this default api and search the results\n",
            "---------------------------node1-------------------------\n",
            "==================================\u001b[1m Ai Message \u001b[0m==================================\n",
            "\n",
            "I need a search query to use the `tavily_search_results_json` function. Please provide the text you would like to search for.\n",
            "User: search query = PM of Pakistan\n",
            "================================\u001b[1m Human Message \u001b[0m=================================\n",
            "\n",
            "search query = PM of Pakistan\n",
            "---------------------------node1-------------------------\n",
            "==================================\u001b[1m Ai Message \u001b[0m==================================\n",
            "Tool Calls:\n",
            "  tavily_search_results_json (7112cb85-4ac0-4a0b-a704-0480fc94462d)\n",
            " Call ID: 7112cb85-4ac0-4a0b-a704-0480fc94462d\n",
            "  Args:\n",
            "    query: PM of Pakistan\n",
            "User: q\n",
            "Goodbye!\n"
          ]
        }
      ]
    },
    {
      "cell_type": "code",
      "source": [
        "snapshot= graph.get_state(config)\n",
        "existing_msg = snapshot.values[\"messages\"][-1]\n",
        "pprint(existing_msg)"
      ],
      "metadata": {
        "colab": {
          "base_uri": "https://localhost:8080/"
        },
        "id": "9MRWl2oKPz_p",
        "outputId": "1b823424-a02a-4f28-cc9a-f6d544b439c8"
      },
      "execution_count": null,
      "outputs": [
        {
          "output_type": "stream",
          "name": "stdout",
          "text": [
            "AIMessage(content='', additional_kwargs={'function_call': {'name': 'tavily_search_results_json', 'arguments': '{\"query\": \"PM of Pakistan\"}'}}, response_metadata={'prompt_feedback': {'block_reason': 0, 'safety_ratings': []}, 'finish_reason': 'STOP', 'safety_ratings': []}, id='run-8b6aa4fe-2019-4989-ba8c-4bb554477d34-0', tool_calls=[{'name': 'tavily_search_results_json', 'args': {'query': 'PM of Pakistan'}, 'id': '7112cb85-4ac0-4a0b-a704-0480fc94462d', 'type': 'tool_call'}], usage_metadata={'input_tokens': 586, 'output_tokens': 12, 'total_tokens': 598, 'input_token_details': {'cache_read': 0}})\n"
          ]
        }
      ]
    },
    {
      "cell_type": "code",
      "source": [
        "snapshot.next"
      ],
      "metadata": {
        "colab": {
          "base_uri": "https://localhost:8080/"
        },
        "id": "MLoTiMC7QBrV",
        "outputId": "15e7316b-ffcf-4247-bee2-280cf26dc8f1"
      },
      "execution_count": null,
      "outputs": [
        {
          "output_type": "execute_result",
          "data": {
            "text/plain": [
              "('tools',)"
            ]
          },
          "metadata": {},
          "execution_count": 82
        }
      ]
    },
    {
      "cell_type": "code",
      "source": [
        "events= graph.stream(None, config, stream_mode= \"values\")\n",
        "for event in events:\n",
        "    for value in event.values():\n",
        "       event[\"messages\"][-1].pretty_print()"
      ],
      "metadata": {
        "colab": {
          "base_uri": "https://localhost:8080/"
        },
        "id": "AwPtC8B8Q9cI",
        "outputId": "f1ed5773-8f70-4249-dd7d-04393c16c8c3"
      },
      "execution_count": null,
      "outputs": [
        {
          "output_type": "stream",
          "name": "stdout",
          "text": [
            "==================================\u001b[1m Ai Message \u001b[0m==================================\n",
            "\n",
            "The `tavily_search_results_json` function returned information about the Prime Minister of Pakistan.  The response includes links to Wikipedia pages providing details about the role and a list of past prime ministers.\n"
          ]
        }
      ]
    },
    {
      "cell_type": "code",
      "source": [
        "snapshot.next"
      ],
      "metadata": {
        "colab": {
          "base_uri": "https://localhost:8080/"
        },
        "id": "1rubg7pLR4eP",
        "outputId": "99bb9c45-cf49-4071-8d49-94e30ff4886a"
      },
      "execution_count": null,
      "outputs": [
        {
          "output_type": "execute_result",
          "data": {
            "text/plain": [
              "('tools',)"
            ]
          },
          "metadata": {},
          "execution_count": 88
        }
      ]
    },
    {
      "cell_type": "code",
      "source": [
        "events= graph.stream(None, config, stream_mode= \"values\")\n",
        "for event in events:\n",
        "    for value in event.values():\n",
        "       event[\"messages\"][-1].pretty_print()"
      ],
      "metadata": {
        "colab": {
          "base_uri": "https://localhost:8080/"
        },
        "id": "whAwdwSUSMBt",
        "outputId": "c8ba1ce6-3b5e-4b66-fcf8-05131a5891a6"
      },
      "execution_count": null,
      "outputs": [
        {
          "output_type": "stream",
          "name": "stdout",
          "text": [
            "==================================\u001b[1m Ai Message \u001b[0m==================================\n",
            "\n",
            "The `tavily_search_results_json` function returned information about the Prime Minister of Pakistan.  The response includes links to Wikipedia pages providing details about the role and a list of past prime ministers.\n"
          ]
        }
      ]
    },
    {
      "cell_type": "code",
      "source": [
        "snapshot.next"
      ],
      "metadata": {
        "colab": {
          "base_uri": "https://localhost:8080/"
        },
        "id": "IcHS1z5nSSZP",
        "outputId": "7c83df33-1965-4d47-ac57-2faa80305e3f"
      },
      "execution_count": null,
      "outputs": [
        {
          "output_type": "execute_result",
          "data": {
            "text/plain": [
              "('tools',)"
            ]
          },
          "metadata": {},
          "execution_count": 90
        }
      ]
    },
    {
      "cell_type": "code",
      "source": [
        "graph.update_state(config, {\"messages\": [(\"user\", \"I'm learning LangGraph. Could you do some research on it for me?\")]},as_node=\"chatbot\")"
      ],
      "metadata": {
        "colab": {
          "base_uri": "https://localhost:8080/"
        },
        "id": "UOh7bae2TxL2",
        "outputId": "2797692d-d1be-4018-e9e1-0a03de224345"
      },
      "execution_count": null,
      "outputs": [
        {
          "output_type": "execute_result",
          "data": {
            "text/plain": [
              "{'configurable': {'thread_id': '2',\n",
              "  'checkpoint_ns': '',\n",
              "  'checkpoint_id': '1efc234a-e9a2-66b5-8019-f58d3111ec8c'}}"
            ]
          },
          "metadata": {},
          "execution_count": 94
        }
      ]
    },
    {
      "cell_type": "code",
      "source": [
        "snapshot= graph.get_state(config)\n",
        "existing_msg = snapshot.values[\"messages\"][-1]\n",
        "pprint(existing_msg)"
      ],
      "metadata": {
        "colab": {
          "base_uri": "https://localhost:8080/"
        },
        "id": "a9ABrYjwVase",
        "outputId": "4aedec7d-608a-4577-84f2-d079c8877ce4"
      },
      "execution_count": null,
      "outputs": [
        {
          "output_type": "stream",
          "name": "stdout",
          "text": [
            "HumanMessage(content=\"I'm learning LangGraph. Could you do some research on it for me?\", additional_kwargs={}, response_metadata={}, id='64776cd4-4d10-43cd-b201-55fa2ebf57a7')\n"
          ]
        }
      ]
    }
  ]
}