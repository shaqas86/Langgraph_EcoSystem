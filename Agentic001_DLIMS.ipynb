{
  "nbformat": 4,
  "nbformat_minor": 0,
  "metadata": {
    "colab": {
      "provenance": [],
      "authorship_tag": "ABX9TyNlIltXLQJD/XSpojjOG6hI",
      "include_colab_link": true
    },
    "kernelspec": {
      "name": "python3",
      "display_name": "Python 3"
    },
    "language_info": {
      "name": "python"
    }
  },
  "cells": [
    {
      "cell_type": "markdown",
      "metadata": {
        "id": "view-in-github",
        "colab_type": "text"
      },
      "source": [
        "<a href=\"https://colab.research.google.com/github/shaqas86/Langgraph_EcoSystem/blob/main/Agentic001_DLIMS.ipynb\" target=\"_parent\"><img src=\"https://colab.research.google.com/assets/colab-badge.svg\" alt=\"Open In Colab\"/></a>"
      ]
    },
    {
      "cell_type": "code",
      "execution_count": null,
      "metadata": {
        "id": "mEqvoqcgt7WM"
      },
      "outputs": [],
      "source": []
    },
    {
      "cell_type": "markdown",
      "source": [
        "# AGENTIC DRIVING LICENSE ISSUANCE MANGEMENT SYSTEM\n",
        "\n",
        "PROJECT STACK = LANGGRAPH REACT AGENT\n",
        "\n",
        "PROBLEM: USER WANTS ONLINE LEARNER SERVICE FOR DRIVING LICENSE\n",
        "\n",
        "SOLUTION : APPLY ONLINE LEARNER WITH THE HELP OF DLIMS AGENTIC AI SYSTEM WITH EASE OF USE IN EVERY TYPE OF LANGUAGE\n",
        "\n",
        "REQUIREMENT : ORGINAL CNIC [FRONT PIC 1 BACK PIC 2]\n",
        "\n",
        "PASSPORT SIZE PICTURE [WITH WHITE BACKGROUND]\n",
        "\n",
        "SCHEMA APPLICANT BIO DATA [NAME,FATHER NAME,DATE OF BIRTH, ADDRESS, BLOOD GROUP, HIGHT , CONTACT NO PERSONAL AND EMERGENCY NUMBER, CITY OR DISTRICT ]\n",
        "\n",
        "SCHEMA FOR DRIVING LICENSE CATEGORY [MCYCLE, MCAR, LTV , TR. AGRI, TR. COMM, INVALID CARRIAGE]\n",
        "\n",
        "POLICES:\n",
        "\n",
        "## SERVICES\n",
        "\n",
        "<LI>  ONLINE LEARNER"
      ],
      "metadata": {
        "id": "KpImwqZ3uHZG"
      }
    },
    {
      "cell_type": "code",
      "source": [
        "%%capture --no-stderr\n",
        "%pip install -U langgraph langsmith langchain_google_genai langchain_community"
      ],
      "metadata": {
        "id": "BbaXyeYxu94p"
      },
      "execution_count": 1,
      "outputs": []
    },
    {
      "cell_type": "code",
      "source": [
        "import os\n",
        "from google.colab import userdata\n",
        "\n",
        "os.environ[\"LANGCHAIN_API_KEY\"] = userdata.get('LANGCHAIN_API_KEY')\n",
        "os.environ[\"LANGCHAIN_TRACING_V2\"] = \"true\"\n",
        "os.environ[\"LANGCHAIN_PROJECT\"] = \"DLIMS-Agentic-System\"\n",
        "os.environ[\"TAVILY_API_KEY\"] = userdata.get('TAVILY_API_KEY')\n",
        "\n",
        "gemini_api_key = userdata.get('GEMINI_API_KEY')\n",
        "tavily_api_key = userdata.get('TAVILY_API_KEY')"
      ],
      "metadata": {
        "id": "B0yRJada3d_V"
      },
      "execution_count": 2,
      "outputs": []
    },
    {
      "cell_type": "code",
      "source": [
        "from langchain_google_genai import ChatGoogleGenerativeAI\n",
        "\n",
        "llm = ChatGoogleGenerativeAI(\n",
        "    model=\"gemini-1.5-flash\",\n",
        "    max_retries=2,\n",
        "    api_key=gemini_api_key\n",
        ")\n",
        "\n",
        "llm.invoke(\"greet me\")"
      ],
      "metadata": {
        "colab": {
          "base_uri": "https://localhost:8080/"
        },
        "id": "31X428_r3lYC",
        "outputId": "5e2c564e-a324-4313-ff33-c8243f5ff831"
      },
      "execution_count": 3,
      "outputs": [
        {
          "output_type": "execute_result",
          "data": {
            "text/plain": [
              "AIMessage(content='Hello there!  How are you doing today?\\n', additional_kwargs={}, response_metadata={'prompt_feedback': {'block_reason': 0, 'safety_ratings': []}, 'finish_reason': 'STOP', 'safety_ratings': []}, id='run-198408cc-72aa-4ea1-acfb-51a7838a4465-0', usage_metadata={'input_tokens': 3, 'output_tokens': 11, 'total_tokens': 14, 'input_token_details': {'cache_read': 0}})"
            ]
          },
          "metadata": {},
          "execution_count": 3
        }
      ]
    },
    {
      "cell_type": "code",
      "source": [
        "from pydantic import BaseModel, EmailStr\n",
        "from typing import Optional\n",
        "\n",
        "class ApplicantBioData(BaseModel):\n",
        "    name: str\n",
        "    father_name: str\n",
        "    date_of_birth: str  # YYYY-MM-DD\n",
        "    address: str\n",
        "    blood_group: str\n",
        "    height: float  # in cm\n",
        "    contact_no: str\n",
        "    emergency_no: str\n",
        "    city_or_district: str"
      ],
      "metadata": {
        "id": "L9X6awUA3zbB"
      },
      "execution_count": null,
      "outputs": []
    },
    {
      "cell_type": "code",
      "source": [
        "#2. Driving License Category Schema\n",
        "from pydantic import BaseModel\n",
        "from typing import Literal\n",
        "\n",
        "class LicenseCategory(BaseModel):\n",
        "    category: Literal[\"MCYCLE\", \"MCAR\", \"LTV\", \"TR.AGRI\", \"TR.COMM\", \"INVALID CARRIAGE\"]"
      ],
      "metadata": {
        "id": "ypmoj_h339pK"
      },
      "execution_count": null,
      "outputs": []
    },
    {
      "cell_type": "code",
      "source": [
        "#Tool 1: CNIC Verification\n",
        "def cnic_verification_tool(cnic_images: list[str]) -> dict:\n",
        "    \"\"\"\n",
        "    Verify CNIC using uploaded images.\n",
        "\n",
        "    Args:\n",
        "        cnic_images (list[str]): A list containing paths of the front and back CNIC images.\n",
        "\n",
        "    Returns:\n",
        "        dict: Verification status and extracted data from CNIC.\n",
        "    \"\"\"\n",
        "    # Mock example\n",
        "    return {\"status\": \"Verified\", \"cnic_data\": {\"name\": \"John Doe\", \"dob\": \"1985-07-15\"}}"
      ],
      "metadata": {
        "id": "KCk5bXYT4F4R"
      },
      "execution_count": null,
      "outputs": []
    },
    {
      "cell_type": "code",
      "source": [
        "#Tool 2: License Application Submission\n",
        "def learner_license_tool(details: ApplicantBioData, license_category: LicenseCategory) -> dict:\n",
        "    \"\"\"\n",
        "    Process learner driving license application.\n",
        "\n",
        "    Args:\n",
        "        details (ApplicantBioData): Applicant's biodata.\n",
        "        license_category (LicenseCategory): Selected license category.\n",
        "\n",
        "    Returns:\n",
        "        dict: Application status and license tracking number.\n",
        "    \"\"\"\n",
        "    # Mock logic\n",
        "    return {\n",
        "        \"status\": \"Application Submitted\",\n",
        "        \"tracking_number\": \"DLIMS-2024-123456\",\n",
        "        \"expected_issue_date\": \"2024-12-20\"\n",
        "    }"
      ],
      "metadata": {
        "id": "L52Y0fo-4Hd3"
      },
      "execution_count": null,
      "outputs": []
    },
    {
      "cell_type": "markdown",
      "source": [
        "[Start]\n",
        "   ↓\n",
        "[Detect Intent] --> [Request Assistance] (if needed)\n",
        "   ↓\n",
        "[Collect CNIC Details]\n",
        "   ↓\n",
        "[Collect Applicant Bio Data]\n",
        "   ↓\n",
        "[License Category Selection]\n",
        "   ↓\n",
        "[Multilingual Adaptation] --> [Back to Node] (if language adjustment required)\n",
        "   ↓\n",
        "[Data Validation] --> [Error Handling] (if validation fails)\n",
        "   ↓\n",
        "[Submit Application]\n",
        "   ↓\n",
        "[End (Tracking Info)]"
      ],
      "metadata": {
        "id": "4KMNMkjB4XW2"
      }
    },
    {
      "cell_type": "code",
      "source": [
        "#complete\n",
        "from langgraph.graph import StateGraph,END, START\n",
        "from langgraph.prebuilt import ToolNode, tools_condition\n",
        "from langgraph.checkpoint.memory import MemorySaver\n",
        "from typing import TypedDict, Optional\n",
        "\n",
        "# Define the application state\n",
        "class State(TypedDict):\n",
        "    messages: list\n",
        "    ask_human: bool\n",
        "    cnic_front: Optional[str]  # CNIC front image\n",
        "    cnic_back: Optional[str]   # CNIC back image\n",
        "    bio_data: Optional[dict]   # Applicant's bio-data\n",
        "    license_category: Optional[str]  # Selected license category\n",
        "    application_status: Optional[str]  # Result after application submission\n",
        "\n",
        "# Define tools (mock implementations for demonstration)\n",
        "def collect_cnic_tool(state: State):\n",
        "    return \"Please upload your CNIC front and back images.\"\n",
        "\n",
        "def bio_data_tool(state: State):\n",
        "    return \"Provide your bio-data (Name, DOB, Address, etc.).\"\n",
        "\n",
        "def license_category_tool(state: State):\n",
        "    return \"Select a license category (e.g., Motorcycle, Car, LTV).\"\n",
        "\n",
        "def submit_application_tool(state: State):\n",
        "    # Simulating submission logic\n",
        "    if state[\"cnic_front\"] and state[\"bio_data\"] and state[\"license_category\"]:\n",
        "        return {\"status\": \"Application Submitted\", \"tracking_id\": \"DLIMS-2024-001\"}\n",
        "    return {\"status\": \"Error\", \"message\": \"Missing required fields.\"}\n",
        "\n",
        "# Instantiate tools\n",
        "tools = {\n",
        "    \"collect_cnic\": collect_cnic_tool,\n",
        "    \"bio_data\": bio_data_tool,\n",
        "    \"license_category\": license_category_tool,\n",
        "    \"submit_application\": submit_application_tool,\n",
        "}\n",
        "\n",
        "# Dynamic tool selection\n",
        "def tools_condition(state: State):\n",
        "    if not state.get(\"cnic_front\"):\n",
        "        return \"collect_cnic\"\n",
        "    if not state.get(\"bio_data\"):\n",
        "        return \"bio_data\"\n",
        "    if not state.get(\"license_category\"):\n",
        "        return \"license_category\"\n",
        "    return END\n",
        "\n",
        "# Build the graph\n",
        "graph_builder = StateGraph(State)\n",
        "\n",
        "# Add nodes\n",
        "graph_builder.add_node(\"chatbot\", lambda state: \"How can I assist you today?\")\n",
        "graph_builder.add_node(\"tools\", ToolNode(tools=tools))\n",
        "\n",
        "# Conditional routing\n",
        "def select_next_node(state: State):\n",
        "    # Route based on the dynamic conditions\n",
        "    return tools_condition(state)\n",
        "\n",
        "graph_builder.add_conditional_edges(\n",
        "    \"chatbot\",\n",
        "    select_next_node,\n",
        "    {\"tools\": \"tools\", END: END},\n",
        ")\n",
        "\n",
        "# Add start and tool loops\n",
        "graph_builder.add_edge(START, \"chatbot\")\n",
        "graph_builder.add_edge(\"tools\", \"chatbot\")\n",
        "\n",
        "# Compile graph\n",
        "memory = MemorySaver()\n",
        "graph = graph_builder.compile(\n",
        "    checkpointer=memory\n",
        ")"
      ],
      "metadata": {
        "colab": {
          "base_uri": "https://localhost:8080/",
          "height": 367
        },
        "id": "j23nFNYF5D0l",
        "outputId": "8749f88a-f7fd-4018-c29e-2560d1bb798d"
      },
      "execution_count": 9,
      "outputs": [
        {
          "output_type": "error",
          "ename": "AttributeError",
          "evalue": "'function' object has no attribute 'name'",
          "traceback": [
            "\u001b[0;31m---------------------------------------------------------------------------\u001b[0m",
            "\u001b[0;31mAttributeError\u001b[0m                            Traceback (most recent call last)",
            "\u001b[0;32m<ipython-input-9-b783bd116102>\u001b[0m in \u001b[0;36m<cell line: 56>\u001b[0;34m()\u001b[0m\n\u001b[1;32m     54\u001b[0m \u001b[0;31m# Add nodes\u001b[0m\u001b[0;34m\u001b[0m\u001b[0;34m\u001b[0m\u001b[0m\n\u001b[1;32m     55\u001b[0m \u001b[0mgraph_builder\u001b[0m\u001b[0;34m.\u001b[0m\u001b[0madd_node\u001b[0m\u001b[0;34m(\u001b[0m\u001b[0;34m\"chatbot\"\u001b[0m\u001b[0;34m,\u001b[0m \u001b[0;32mlambda\u001b[0m \u001b[0mstate\u001b[0m\u001b[0;34m:\u001b[0m \u001b[0;34m\"How can I assist you today?\"\u001b[0m\u001b[0;34m)\u001b[0m\u001b[0;34m\u001b[0m\u001b[0;34m\u001b[0m\u001b[0m\n\u001b[0;32m---> 56\u001b[0;31m \u001b[0mgraph_builder\u001b[0m\u001b[0;34m.\u001b[0m\u001b[0madd_node\u001b[0m\u001b[0;34m(\u001b[0m\u001b[0;34m\"tools\"\u001b[0m\u001b[0;34m,\u001b[0m \u001b[0mToolNode\u001b[0m\u001b[0;34m(\u001b[0m\u001b[0mtools\u001b[0m\u001b[0;34m=\u001b[0m\u001b[0mtools\u001b[0m\u001b[0;34m)\u001b[0m\u001b[0;34m)\u001b[0m\u001b[0;34m\u001b[0m\u001b[0;34m\u001b[0m\u001b[0m\n\u001b[0m\u001b[1;32m     57\u001b[0m \u001b[0;34m\u001b[0m\u001b[0m\n\u001b[1;32m     58\u001b[0m \u001b[0;31m# Conditional routing\u001b[0m\u001b[0;34m\u001b[0m\u001b[0;34m\u001b[0m\u001b[0m\n",
            "\u001b[0;32m/usr/local/lib/python3.10/dist-packages/langgraph/prebuilt/tool_node.py\u001b[0m in \u001b[0;36m__init__\u001b[0;34m(self, tools, name, tags, handle_tool_errors, messages_key)\u001b[0m\n\u001b[1;32m    198\u001b[0m             \u001b[0;32mif\u001b[0m \u001b[0;32mnot\u001b[0m \u001b[0misinstance\u001b[0m\u001b[0;34m(\u001b[0m\u001b[0mtool_\u001b[0m\u001b[0;34m,\u001b[0m \u001b[0mBaseTool\u001b[0m\u001b[0;34m)\u001b[0m\u001b[0;34m:\u001b[0m\u001b[0;34m\u001b[0m\u001b[0;34m\u001b[0m\u001b[0m\n\u001b[1;32m    199\u001b[0m                 \u001b[0mtool_\u001b[0m \u001b[0;34m=\u001b[0m \u001b[0mcreate_tool\u001b[0m\u001b[0;34m(\u001b[0m\u001b[0mtool_\u001b[0m\u001b[0;34m)\u001b[0m\u001b[0;34m\u001b[0m\u001b[0;34m\u001b[0m\u001b[0m\n\u001b[0;32m--> 200\u001b[0;31m             \u001b[0mself\u001b[0m\u001b[0;34m.\u001b[0m\u001b[0mtools_by_name\u001b[0m\u001b[0;34m[\u001b[0m\u001b[0mtool_\u001b[0m\u001b[0;34m.\u001b[0m\u001b[0mname\u001b[0m\u001b[0;34m]\u001b[0m \u001b[0;34m=\u001b[0m \u001b[0mtool_\u001b[0m\u001b[0;34m\u001b[0m\u001b[0;34m\u001b[0m\u001b[0m\n\u001b[0m\u001b[1;32m    201\u001b[0m             \u001b[0mself\u001b[0m\u001b[0;34m.\u001b[0m\u001b[0mtool_to_state_args\u001b[0m\u001b[0;34m[\u001b[0m\u001b[0mtool_\u001b[0m\u001b[0;34m.\u001b[0m\u001b[0mname\u001b[0m\u001b[0;34m]\u001b[0m \u001b[0;34m=\u001b[0m \u001b[0m_get_state_args\u001b[0m\u001b[0;34m(\u001b[0m\u001b[0mtool_\u001b[0m\u001b[0;34m)\u001b[0m\u001b[0;34m\u001b[0m\u001b[0;34m\u001b[0m\u001b[0m\n\u001b[1;32m    202\u001b[0m             \u001b[0mself\u001b[0m\u001b[0;34m.\u001b[0m\u001b[0mtool_to_store_arg\u001b[0m\u001b[0;34m[\u001b[0m\u001b[0mtool_\u001b[0m\u001b[0;34m.\u001b[0m\u001b[0mname\u001b[0m\u001b[0;34m]\u001b[0m \u001b[0;34m=\u001b[0m \u001b[0m_get_store_arg\u001b[0m\u001b[0;34m(\u001b[0m\u001b[0mtool_\u001b[0m\u001b[0;34m)\u001b[0m\u001b[0;34m\u001b[0m\u001b[0;34m\u001b[0m\u001b[0m\n",
            "\u001b[0;31mAttributeError\u001b[0m: 'function' object has no attribute 'name'"
          ]
        }
      ]
    },
    {
      "cell_type": "code",
      "source": [
        "from IPython.display import Image, display\n",
        "\n",
        "try:\n",
        "    display(Image(graph.get_graph().draw_mermaid_png()))\n",
        "except Exception:\n",
        "    # This requires some extra dependencies and is optional\n",
        "    pass"
      ],
      "metadata": {
        "id": "PW-7c8FG5izx"
      },
      "execution_count": null,
      "outputs": []
    },
    {
      "cell_type": "code",
      "source": [
        "# Initialize state\n",
        "state = State(\n",
        "    messages=[],\n",
        "    ask_human=False,\n",
        "    cnic_front=None,\n",
        "    cnic_back=None,\n",
        "    bio_data=None,\n",
        "    license_category=None,\n",
        "    application_status=None,\n",
        ")\n",
        "\n",
        "# Start the workflow\n",
        "events = graph.stream(state)\n",
        "\n",
        "# Simulate interactions\n",
        "for event in events:\n",
        "    if \"messages\" in event:\n",
        "        print(f\"Agent: {event['messages'][-1]}\")\n",
        "    if \"tools\" in event:\n",
        "        tool_result = event[\"tools\"][-1]\n",
        "        print(f\"Tool Result: {tool_result}\")"
      ],
      "metadata": {
        "id": "6chPaP_x5H6r"
      },
      "execution_count": null,
      "outputs": []
    },
    {
      "cell_type": "code",
      "source": [],
      "metadata": {
        "id": "r9xBikmV5hHn"
      },
      "execution_count": null,
      "outputs": []
    }
  ]
}