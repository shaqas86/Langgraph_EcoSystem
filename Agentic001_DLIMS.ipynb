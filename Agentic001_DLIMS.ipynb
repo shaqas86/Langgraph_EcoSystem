{
  "nbformat": 4,
  "nbformat_minor": 0,
  "metadata": {
    "colab": {
      "provenance": [],
      "authorship_tag": "ABX9TyOmfEfr3MQNvX1T+d7KojXH",
      "include_colab_link": true
    },
    "kernelspec": {
      "name": "python3",
      "display_name": "Python 3"
    },
    "language_info": {
      "name": "python"
    }
  },
  "cells": [
    {
      "cell_type": "markdown",
      "metadata": {
        "id": "view-in-github",
        "colab_type": "text"
      },
      "source": [
        "<a href=\"https://colab.research.google.com/github/shaqas86/Langgraph_EcoSystem/blob/main/Agentic001_DLIMS.ipynb\" target=\"_parent\"><img src=\"https://colab.research.google.com/assets/colab-badge.svg\" alt=\"Open In Colab\"/></a>"
      ]
    },
    {
      "cell_type": "code",
      "execution_count": null,
      "metadata": {
        "id": "mEqvoqcgt7WM"
      },
      "outputs": [],
      "source": []
    },
    {
      "cell_type": "markdown",
      "source": [
        "# AGENTIC DRIVING LICENSE ISSUANCE MANGEMENT SYSTEM\n",
        "\n",
        "PROJECT STACK = LANGGRAPH REACT AGENT\n",
        "\n",
        "PROBLEM: USER WANTS ONLINE LEARNER SERVICE FOR DRIVING LICENSE\n",
        "\n",
        "SOLUTION : APPLY ONLINE LEARNER WITH THE HELP OF DLIMS AGENTIC AI SYSTEM WITH EASE OF USE IN EVERY TYPE OF LANGUAGE\n",
        "\n",
        "REQUIREMENT : ORGINAL CNIC [FRONT PIC 1 BACK PIC 2]\n",
        "\n",
        "PASSPORT SIZE PICTURE [WITH WHITE BACKGROUND]\n",
        "\n",
        "SCHEMA APPLICANT BIO DATA [NAME,FATHER NAME,DATE OF BIRTH, ADDRESS, BLOOD GROUP, HIGHT , CONTACT NO PERSONAL AND EMERGENCY NUMBER, CITY OR DISTRICT ]\n",
        "\n",
        "SCHEMA FOR DRIVING LICENSE CATEGORY [MCYCLE, MCAR, LTV , TR. AGRI, TR. COMM, INVALID CARRIAGE]\n",
        "\n",
        "POLICES:\n",
        "\n",
        "## SERVICES\n",
        "\n",
        "<LI>  ONLINE LEARNER"
      ],
      "metadata": {
        "id": "KpImwqZ3uHZG"
      }
    },
    {
      "cell_type": "code",
      "source": [],
      "metadata": {
        "id": "BbaXyeYxu94p"
      },
      "execution_count": null,
      "outputs": []
    }
  ]
}