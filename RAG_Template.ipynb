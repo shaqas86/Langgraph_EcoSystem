{
  "nbformat": 4,
  "nbformat_minor": 0,
  "metadata": {
    "colab": {
      "provenance": [],
      "authorship_tag": "ABX9TyMuONxmtjrmab1NcdV0ZR2V",
      "include_colab_link": true
    },
    "kernelspec": {
      "name": "python3",
      "display_name": "Python 3"
    },
    "language_info": {
      "name": "python"
    }
  },
  "cells": [
    {
      "cell_type": "markdown",
      "metadata": {
        "id": "view-in-github",
        "colab_type": "text"
      },
      "source": [
        "<a href=\"https://colab.research.google.com/github/shaqas86/Langgraph_EcoSystem/blob/main/RAG_Template.ipynb\" target=\"_parent\"><img src=\"https://colab.research.google.com/assets/colab-badge.svg\" alt=\"Open In Colab\"/></a>"
      ]
    },
    {
      "cell_type": "code",
      "execution_count": null,
      "metadata": {
        "colab": {
          "base_uri": "https://localhost:8080/"
        },
        "id": "H78tEtY_HHTs",
        "outputId": "722d9fb7-1d4a-48ef-c553-cec98273d1ac"
      },
      "outputs": [
        {
          "output_type": "stream",
          "name": "stdout",
          "text": [
            "\u001b[?25l   \u001b[90m━━━━━━━━━━━━━━━━━━━━━━━━━━━━━━━━━━━━━━━━\u001b[0m \u001b[32m0.0/2.5 MB\u001b[0m \u001b[31m?\u001b[0m eta \u001b[36m-:--:--\u001b[0m\r\u001b[2K   \u001b[91m━━━━━━━\u001b[0m\u001b[90m╺\u001b[0m\u001b[90m━━━━━━━━━━━━━━━━━━━━━━━━━━━━━━━━\u001b[0m \u001b[32m0.5/2.5 MB\u001b[0m \u001b[31m14.1 MB/s\u001b[0m eta \u001b[36m0:00:01\u001b[0m\r\u001b[2K   \u001b[91m━━━━━━━━━━━━━━━━━━━━━━━━━━━━━━━━━━━━━━━\u001b[0m\u001b[91m╸\u001b[0m \u001b[32m2.5/2.5 MB\u001b[0m \u001b[31m38.7 MB/s\u001b[0m eta \u001b[36m0:00:01\u001b[0m\r\u001b[2K   \u001b[90m━━━━━━━━━━━━━━━━━━━━━━━━━━━━━━━━━━━━━━━━\u001b[0m \u001b[32m2.5/2.5 MB\u001b[0m \u001b[31m28.3 MB/s\u001b[0m eta \u001b[36m0:00:00\u001b[0m\n",
            "\u001b[2K   \u001b[90m━━━━━━━━━━━━━━━━━━━━━━━━━━━━━━━━━━━━━━━━\u001b[0m \u001b[32m41.3/41.3 kB\u001b[0m \u001b[31m2.6 MB/s\u001b[0m eta \u001b[36m0:00:00\u001b[0m\n",
            "\u001b[2K   \u001b[90m━━━━━━━━━━━━━━━━━━━━━━━━━━━━━━━━━━━━━━━━\u001b[0m \u001b[32m1.2/1.2 MB\u001b[0m \u001b[31m43.7 MB/s\u001b[0m eta \u001b[36m0:00:00\u001b[0m\n",
            "\u001b[2K   \u001b[90m━━━━━━━━━━━━━━━━━━━━━━━━━━━━━━━━━━━━━━━━\u001b[0m \u001b[32m1.0/1.0 MB\u001b[0m \u001b[31m38.2 MB/s\u001b[0m eta \u001b[36m0:00:00\u001b[0m\n",
            "\u001b[2K   \u001b[90m━━━━━━━━━━━━━━━━━━━━━━━━━━━━━━━━━━━━━━━━\u001b[0m \u001b[32m411.6/411.6 kB\u001b[0m \u001b[31m19.0 MB/s\u001b[0m eta \u001b[36m0:00:00\u001b[0m\n",
            "\u001b[2K   \u001b[90m━━━━━━━━━━━━━━━━━━━━━━━━━━━━━━━━━━━━━━━━\u001b[0m \u001b[32m244.8/244.8 kB\u001b[0m \u001b[31m15.2 MB/s\u001b[0m eta \u001b[36m0:00:00\u001b[0m\n",
            "\u001b[2K   \u001b[90m━━━━━━━━━━━━━━━━━━━━━━━━━━━━━━━━━━━━━━━━\u001b[0m \u001b[32m49.3/49.3 kB\u001b[0m \u001b[31m2.2 MB/s\u001b[0m eta \u001b[36m0:00:00\u001b[0m\n",
            "\u001b[2K   \u001b[90m━━━━━━━━━━━━━━━━━━━━━━━━━━━━━━━━━━━━━━━━\u001b[0m \u001b[32m85.4/85.4 kB\u001b[0m \u001b[31m5.4 MB/s\u001b[0m eta \u001b[36m0:00:00\u001b[0m\n",
            "\u001b[?25h"
          ]
        }
      ],
      "source": [
        "!pip install --quiet --upgrade langchain-text-splitters langchain-community langchain-google-genai  langchain-pinecone\n"
      ]
    },
    {
      "cell_type": "code",
      "source": [
        "!pip install -qU pypdf"
      ],
      "metadata": {
        "colab": {
          "base_uri": "https://localhost:8080/"
        },
        "id": "AnM3hdplJ_vc",
        "outputId": "7b040c82-ed64-4fc5-8cb1-1621d3b5e278"
      },
      "execution_count": null,
      "outputs": [
        {
          "output_type": "stream",
          "name": "stdout",
          "text": [
            "\u001b[?25l   \u001b[90m━━━━━━━━━━━━━━━━━━━━━━━━━━━━━━━━━━━━━━━━\u001b[0m \u001b[32m0.0/298.0 kB\u001b[0m \u001b[31m?\u001b[0m eta \u001b[36m-:--:--\u001b[0m\r\u001b[2K   \u001b[91m━━━━━━━━━━━━━━━━━━━━\u001b[0m\u001b[91m╸\u001b[0m\u001b[90m━━━━━━━━━━━━━━━━━━━\u001b[0m \u001b[32m153.6/298.0 kB\u001b[0m \u001b[31m4.5 MB/s\u001b[0m eta \u001b[36m0:00:01\u001b[0m\r\u001b[2K   \u001b[90m━━━━━━━━━━━━━━━━━━━━━━━━━━━━━━━━━━━━━━━━\u001b[0m \u001b[32m298.0/298.0 kB\u001b[0m \u001b[31m4.9 MB/s\u001b[0m eta \u001b[36m0:00:00\u001b[0m\n",
            "\u001b[?25h"
          ]
        }
      ]
    },
    {
      "cell_type": "code",
      "source": [
        "import os\n",
        "from google.colab import userdata\n",
        "userdata.get('GEMINI_API_KEY')\n",
        "os.environ['GOOGLE_API_KEY'] = userdata.get('GEMINI_API_KEY')"
      ],
      "metadata": {
        "id": "2ji_itl3KElo"
      },
      "execution_count": null,
      "outputs": []
    },
    {
      "cell_type": "code",
      "source": [
        "# Ensure your VertexAI credentials are configured\n",
        "from langchain_google_genai import ChatGoogleGenerativeAI\n",
        "\n",
        "llm = ChatGoogleGenerativeAI(model=\"gemini-1.5-flash\")\n",
        "llm.invoke(\"Agent Developer greet me!\")"
      ],
      "metadata": {
        "colab": {
          "base_uri": "https://localhost:8080/"
        },
        "id": "3MGqG9eLK1ch",
        "outputId": "5bf01787-5416-4322-add2-904fa78973ea"
      },
      "execution_count": null,
      "outputs": [
        {
          "output_type": "execute_result",
          "data": {
            "text/plain": [
              "AIMessage(content='Hello there!  How can I help you today?\\n', additional_kwargs={}, response_metadata={'prompt_feedback': {'block_reason': 0, 'safety_ratings': []}, 'finish_reason': 'STOP', 'safety_ratings': []}, id='run-ea507996-8c1c-4834-a6f1-ad3bb234854b-0', usage_metadata={'input_tokens': 6, 'output_tokens': 12, 'total_tokens': 18, 'input_token_details': {'cache_read': 0}})"
            ]
          },
          "metadata": {},
          "execution_count": 6
        }
      ]
    },
    {
      "cell_type": "code",
      "source": [
        "from langchain_google_genai import GoogleGenerativeAIEmbeddings\n",
        "#create embedding means numeric representation of text provided or document\n",
        "embeddings = GoogleGenerativeAIEmbeddings(model=\"models/embedding-001\")\n",
        "em=embeddings.embed_query(\"hello\")\n",
        "# em\n",
        "em[:3]\n"
      ],
      "metadata": {
        "colab": {
          "base_uri": "https://localhost:8080/"
        },
        "id": "nG3W3G2-LZIB",
        "outputId": "92b82fd5-0ece-4244-c8a3-53869b5802ec"
      },
      "execution_count": null,
      "outputs": [
        {
          "output_type": "execute_result",
          "data": {
            "text/plain": [
              "[0.017157701775431633, -0.009304771199822426, -0.011424741707742214]"
            ]
          },
          "metadata": {},
          "execution_count": 9
        }
      ]
    },
    {
      "cell_type": "code",
      "source": [
        "os.environ['PINECONE_API_KEY'] = userdata.get('PINECONE_API_KEY')\n",
        "# os.environ['PINECONE_ENV'] = userdata.get('pinecone_env')\n",
        "api_key = os.environ.get('PINECONE_API_KEY')\n"
      ],
      "metadata": {
        "id": "t61sruFkLcFI"
      },
      "execution_count": null,
      "outputs": []
    },
    {
      "cell_type": "code",
      "source": [
        "from langchain_pinecone import PineconeVectorStore\n",
        "from pinecone import Pinecone,ServerlessSpec\n",
        "\n",
        "index_name = \"rag-dlims\" # name must be lower case and ''\n",
        "pc = Pinecone(api_key=api_key)\n",
        "\n",
        "pc.create_index(\n",
        "      name=index_name,\n",
        "      dimension=768, # Replace with your model dimensions\n",
        "      metric=\"cosine\", # Replace with your model metric\n",
        "      spec=ServerlessSpec(\n",
        "          cloud=\"aws\",\n",
        "          region=\"us-east-1\"\n",
        "      )\n",
        "  )\n",
        "\n",
        "index = pc.Index(index_name)\n",
        "print(index)\n",
        "vector_store = PineconeVectorStore(embedding=embeddings, index=index) #Vector Store"
      ],
      "metadata": {
        "colab": {
          "base_uri": "https://localhost:8080/"
        },
        "id": "NMiXEFDALfJI",
        "outputId": "58048ebf-3314-4be6-ae56-d907894e3a8a"
      },
      "execution_count": null,
      "outputs": [
        {
          "output_type": "stream",
          "name": "stdout",
          "text": [
            "<pinecone.data.index.Index object at 0x79161e49e110>\n"
          ]
        }
      ]
    },
    {
      "cell_type": "code",
      "source": [
        "# from langchain_community.document_loaders import PyPDFLoader\n",
        "\n",
        "# loader = PyPDFLoader(file_path)\n",
        "# pages = []\n",
        "# async for page in loader.alazy_load():\n",
        "#     pages.append(page)"
      ],
      "metadata": {
        "id": "6rHE-3T8VOOq"
      },
      "execution_count": null,
      "outputs": []
    },
    {
      "cell_type": "code",
      "source": [
        "from langchain.document_loaders import TextLoader\n",
        "from langchain.text_splitter import RecursiveCharacterTextSplitter\n",
        "from pprint import pprint\n",
        "# Load documents\n",
        "loader = TextLoader(\"/content/dlims.txt\")  # Replace with your file\n",
        "documents = loader.load()\n",
        "\n",
        "# Split documents into chunks\n",
        "text_splitter = RecursiveCharacterTextSplitter(chunk_size=500, chunk_overlap=50)\n",
        "\n",
        "docs = text_splitter.split_documents(documents) # documents splitted\n",
        "pprint(docs)"
      ],
      "metadata": {
        "colab": {
          "base_uri": "https://localhost:8080/"
        },
        "id": "0CEKI3fWTj_l",
        "outputId": "fe2bcaf2-d82d-4302-c7d1-0fd5c1b7d7c0"
      },
      "execution_count": null,
      "outputs": [
        {
          "output_type": "stream",
          "name": "stdout",
          "text": [
            "[Document(metadata={'source': '/content/dlims.txt'}, page_content='Driving License Issuance Management System (DLIMS) - Punjab, Pakistan\\n\\nOverview:\\nThe Driving License Issuance Management System (DLIMS) is an initiative by the Government of Punjab, Pakistan, aimed at automating the processes of driving license issuance, renewal, and upgrades across the province. This centralized system enhances efficiency, transparency, and security in managing driving licenses.'),\n",
            " Document(metadata={'source': '/content/dlims.txt'}, page_content='Key Features:\\n- Centralized License Management: DLIMS provides a unified platform for the issuance and management of driving licenses throughout Punjab, ensuring uniformity and reducing discrepancies. [Source: https://dlims.punjab.gov.pk/]\\n\\n- Automated Processes: The system automates various procedures, including application submission, testing, and license issuance, minimizing manual interventions and errors. [Source: https://dlims.punjab.gov.pk/]'),\n",
            " Document(metadata={'source': '/content/dlims.txt'}, page_content='- Online Application and Tracking: Applicants can apply for licenses online, track their application status in real-time, and receive updates through a personalized dashboard. [Source: https://dlims.punjab.gov.pk/]\\n\\n- Secure Payment Integration: DLIMS integrates with secure payment systems, allowing applicants to pay fees electronically via the ePay system, enhancing convenience and security. [Source: https://dlims.punjab.gov.pk/]'),\n",
            " Document(metadata={'source': '/content/dlims.txt'}, page_content=\"- Home Delivery of Licenses: Once issued, driving licenses are delivered to applicants' doorsteps through a courier service, eliminating the need for multiple visits to licensing centers. [Source: https://dlims.punjab.gov.pk/]\\n\\n- Data Hub for Other Agencies: The centralized database serves as a data hub, facilitating other agencies in verifying license information and aiding in law enforcement. [Source: https://dlims.punjab.gov.pk/]\"),\n",
            " Document(metadata={'source': '/content/dlims.txt'}, page_content='Application Process:\\n1. Account Creation: Applicants create an account on the DLIMS online portal. [Source: https://dlims.punjab.gov.pk/]\\n\\n2. Form Submission: Fill out the application form accurately with the required details. [Source: https://dlims.punjab.gov.pk/]\\n\\n3. Document Upload: Upload necessary documents as per the application requirements. [Source: https://dlims.punjab.gov.pk/]'),\n",
            " Document(metadata={'source': '/content/dlims.txt'}, page_content=\"4. Fee Payment: Generate a Payment Slip Identification (PSID) and pay the applicable fees through designated banking channels. [Source: https://dlims.punjab.gov.pk/]\\n\\n5. Application Tracking: Monitor the status of the application via the online dashboard. [Source: https://dlims.punjab.gov.pk/]\\n\\n6. License Delivery: Upon approval, the driving license is processed and dispatched to the applicant's provided address. [Source: https://dlims.punjab.gov.pk/]\"),\n",
            " Document(metadata={'source': '/content/dlims.txt'}, page_content='Benefits:\\n- Efficiency: Streamlined processes reduce processing times and enhance user experience. [Source: https://dlims.punjab.gov.pk/]\\n\\n- Transparency: Automated workflows and real-time tracking ensure transparency in license issuance. [Source: https://dlims.punjab.gov.pk/]\\n\\n- Security: Centralized data management and secure payment systems safeguard applicant information. [Source: https://dlims.punjab.gov.pk/]'),\n",
            " Document(metadata={'source': '/content/dlims.txt'}, page_content='- Accessibility: Online services and home delivery make the licensing process accessible to a broader population. [Source: https://dlims.punjab.gov.pk/]\\n\\nFor more information or to apply for a driving license, visit the official DLIMS website: [https://dlims.punjab.gov.pk/]')]\n"
          ]
        }
      ]
    },
    {
      "cell_type": "code",
      "source": [
        "len(docs)\n",
        "# docs[Document(metadata, page_content)]"
      ],
      "metadata": {
        "colab": {
          "base_uri": "https://localhost:8080/"
        },
        "id": "jDhg95gOVNhA",
        "outputId": "7132bd57-407f-4cc4-ccf0-dca0266f363d"
      },
      "execution_count": null,
      "outputs": [
        {
          "output_type": "execute_result",
          "data": {
            "text/plain": [
              "8"
            ]
          },
          "metadata": {},
          "execution_count": 13
        }
      ]
    },
    {
      "cell_type": "code",
      "source": [
        "!pip install tqdm"
      ],
      "metadata": {
        "colab": {
          "base_uri": "https://localhost:8080/"
        },
        "id": "LXUzkMXRTY3I",
        "outputId": "a28caa8b-8302-4cd2-a850-481187e21b99"
      },
      "execution_count": null,
      "outputs": [
        {
          "output_type": "stream",
          "name": "stdout",
          "text": [
            "Requirement already satisfied: tqdm in /usr/local/lib/python3.10/dist-packages (4.67.1)\n"
          ]
        }
      ]
    },
    {
      "cell_type": "code",
      "source": [
        "from tqdm import tqdm\n",
        "\n",
        "# Create embeddings and upload to Pinecone\n",
        "# vectors=[]\n",
        "for doc in tqdm(docs):\n",
        "    vector = embeddings.embed_query(doc.page_content) #create embedding numeric\n",
        "\n",
        "    # Generate a unique ID for each document (e.g., UUID or hash)\n",
        "    doc_id = str(hash(doc.page_content)) #uuid or Hash doc_id = 22i3y12jdyuew****\n",
        "\n",
        "    # Create metadata dictionary\n",
        "    # doc_metadata = {\"source\": doc.metadata[\"source\"]}\n",
        "    documents_list=[doc]\n",
        "    # Upsert the vector with a unique ID and metadata\n",
        "    # index.upsert(vectors=[(doc_id, vector, doc_metadata)]) # Include metadata in upsert\n",
        "    vector_store.add_documents(documents=documents_list, id=doc_id, embedding=vector)"
      ],
      "metadata": {
        "colab": {
          "base_uri": "https://localhost:8080/"
        },
        "id": "Cx4GjispZcUz",
        "outputId": "36e03a9b-852a-4451-da25-ef1e721000b5"
      },
      "execution_count": null,
      "outputs": [
        {
          "output_type": "stream",
          "name": "stderr",
          "text": [
            "100%|██████████| 8/8 [00:03<00:00,  2.40it/s]\n"
          ]
        }
      ]
    },
    {
      "cell_type": "code",
      "source": [
        "from pprint import pprint\n",
        "\n",
        "user_query=\"What is DLIMS\"\n",
        "results = vector_store.similarity_search_with_score(\n",
        "    query=user_query,\n",
        "    k=1, #most similar closest vector\n",
        "    # filter={\"source\": \"/content/dlims.txt\"}\n",
        "    )\n",
        "if results is not None:\n",
        "    pprint(results)\n",
        "else:\n",
        "    print(\"No relevant documents found for the query.\")\n",
        "# for res in results:\n",
        "#     print(f\"*{res.page_content},[{res.metadata}]\")\n",
        "# print(results)"
      ],
      "metadata": {
        "colab": {
          "base_uri": "https://localhost:8080/"
        },
        "id": "WVv1LU2hgDbD",
        "outputId": "50a77196-0dbd-4917-b6d2-ff3306a90b2e"
      },
      "execution_count": null,
      "outputs": [
        {
          "output_type": "stream",
          "name": "stdout",
          "text": [
            "[(Document(id='45181ef6-5234-4625-827c-789fadf1149c', metadata={'source': '/content/dlims.txt'}, page_content='Key Features:\\n- Centralized License Management: DLIMS provides a unified platform for the issuance and management of driving licenses throughout Punjab, ensuring uniformity and reducing discrepancies. [Source: https://dlims.punjab.gov.pk/]\\n\\n- Automated Processes: The system automates various procedures, including application submission, testing, and license issuance, minimizing manual interventions and errors. [Source: https://dlims.punjab.gov.pk/]'),\n",
            "  0.752459586)]\n"
          ]
        }
      ]
    },
    {
      "cell_type": "code",
      "source": [
        "user_query= user_query\n",
        "results = results\n",
        "prompt_template=f\"DLIMS RAG context is {results} and user query is {user_query}\"\n",
        "llm.invoke(prompt_template)"
      ],
      "metadata": {
        "id": "ST5fH8MvipnW"
      },
      "execution_count": null,
      "outputs": []
    },
    {
      "cell_type": "code",
      "source": [
        "from langchain.chains import RetrievalQA\n",
        "# prompt = f\"DLIMS RAG context is {results} and user query is {user_query}\"\n",
        "user_query = \"steps to apply for Learner\"\n",
        "# vector_query = embeddings.embed_query(user_query)\n",
        "results = vector_store.similarity_search(\n",
        "    user_query,\n",
        "    k=1,\n",
        "    # filter={\"source\": \"/content/dlims.txt\"}\n",
        "    )\n",
        "prompt_template =f\"DLIMS RAG context is {results} and user query is {user_query}\"\n",
        "\n",
        "if results is not None:\n",
        "    response = llm.invoke(prompt_template+\"Answer the query\")\n",
        "    # response = results\n",
        "    pprint(response.content)\n",
        "else:\n",
        "    print(\"No relevant documents found for the query.\")\n"
      ],
      "metadata": {
        "colab": {
          "base_uri": "https://localhost:8080/"
        },
        "id": "awHeLFJ7kRJU",
        "outputId": "d679b34a-d319-4d6a-8eb9-6a1d74746213"
      },
      "execution_count": 38,
      "outputs": [
        {
          "output_type": "stream",
          "name": "stdout",
          "text": [
            "('To apply, follow these steps:\\n'\n",
            " '\\n'\n",
            " '1. **Create an account:**  Create an account on the DLIMS online portal at '\n",
            " '[https://dlims.punjab.gov.pk/](https://dlims.punjab.gov.pk/).\\n'\n",
            " '\\n'\n",
            " '2. **Submit the application form:**  Complete the application form '\n",
            " 'accurately, providing all required information.\\n'\n",
            " '\\n'\n",
            " '3. **Upload documents:** Upload all necessary documents as specified in the '\n",
            " 'application requirements.\\n')\n"
          ]
        }
      ]
    },
    {
      "cell_type": "code",
      "source": [],
      "metadata": {
        "id": "H_SdKj0YtWQe"
      },
      "execution_count": null,
      "outputs": []
    }
  ]
}