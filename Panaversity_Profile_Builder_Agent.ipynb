{
  "nbformat": 4,
  "nbformat_minor": 0,
  "metadata": {
    "colab": {
      "provenance": [],
      "authorship_tag": "ABX9TyO4H8xPKVkZCGj/C6dI+cMJ",
      "include_colab_link": true
    },
    "kernelspec": {
      "name": "python3",
      "display_name": "Python 3"
    },
    "language_info": {
      "name": "python"
    }
  },
  "cells": [
    {
      "cell_type": "markdown",
      "metadata": {
        "id": "view-in-github",
        "colab_type": "text"
      },
      "source": [
        "<a href=\"https://colab.research.google.com/github/shaqas86/Langgraph_EcoSystem/blob/main/Panaversity_Profile_Builder_Agent.ipynb\" target=\"_parent\"><img src=\"https://colab.research.google.com/assets/colab-badge.svg\" alt=\"Open In Colab\"/></a>"
      ]
    },
    {
      "cell_type": "code",
      "execution_count": 13,
      "metadata": {
        "id": "eT-2jP0Y2P6J"
      },
      "outputs": [],
      "source": [
        "%%capture --no-stderr\n",
        "%pip install -U langgraph langsmith langchain_google_genai langchain_community tavily-python langchain_community"
      ]
    },
    {
      "cell_type": "code",
      "source": [
        "import os\n",
        "from google.colab import userdata\n",
        "\n",
        "os.environ[\"LANGCHAIN_API_KEY\"] = userdata.get('LANGCHAIN_API_KEY')\n",
        "os.environ[\"LANGCHAIN_TRACING_V2\"] = \"true\"\n",
        "os.environ[\"LANGCHAIN_PROJECT\"] = \"Panaversity_Profile_Builder_Agent\"\n",
        "os.environ[\"TAVILY_API_KEY\"] = userdata.get('TAVILY_API_KEY')\n",
        "gemini_api_key = userdata.get('GEMINI_API_KEY')\n",
        "tavily_api_key = userdata.get('TAVILY_API_KEY')"
      ],
      "metadata": {
        "id": "8qTP-0KZi8Yt"
      },
      "execution_count": 14,
      "outputs": []
    },
    {
      "cell_type": "code",
      "source": [
        "from langchain_google_genai import ChatGoogleGenerativeAI\n",
        "\n",
        "llm = ChatGoogleGenerativeAI(\n",
        "    model=\"gemini-1.5-flash\",\n",
        "    max_retries=2,\n",
        "    api_key=gemini_api_key\n",
        ")\n",
        "\n",
        "llm.invoke(\"greet me\")"
      ],
      "metadata": {
        "colab": {
          "base_uri": "https://localhost:8080/"
        },
        "id": "D_2MXVFUjFCw",
        "outputId": "1861352e-59a9-42b7-f978-60d9aaa1951d"
      },
      "execution_count": 15,
      "outputs": [
        {
          "output_type": "execute_result",
          "data": {
            "text/plain": [
              "AIMessage(content='Hello there!\\n', additional_kwargs={}, response_metadata={'prompt_feedback': {'block_reason': 0, 'safety_ratings': []}, 'finish_reason': 'STOP', 'safety_ratings': []}, id='run-8b483c4f-2d6f-4020-b103-fc22b2522cf0-0', usage_metadata={'input_tokens': 3, 'output_tokens': 4, 'total_tokens': 7, 'input_token_details': {'cache_read': 0}})"
            ]
          },
          "metadata": {},
          "execution_count": 15
        }
      ]
    },
    {
      "cell_type": "code",
      "source": [
        "# from typing_extensions import Annotated,TypedDict\n",
        "# from langgraph.graph.message import add_messages\n",
        "# from langchain_core.messages import SystemMessage\n",
        "# from langgraph.graph import START, StateGraph, MessagesState\n",
        "# from langgraph.prebuilt import tools_condition, ToolNode\n",
        "# from langgraph.graph.state import CompiledStateGraph\n",
        "\n",
        "# class State(TypedDict):\n",
        "#     messages:Annotated[list, add_messages]\n",
        "\n",
        "# # Tools for profile data extraction or calculation can be added\n",
        "# def collect_name(first_name: str, last_name: str) -> str:\n",
        "#     \"\"\"Combines first name and last name into a full name.\"\"\"\n",
        "#     return f\"{first_name} {last_name}\"\n",
        "\n",
        "# def collect_city(city: str) -> str:\n",
        "#     \"\"\"Returns the city name.\"\"\"\n",
        "#     return city\n",
        "\n",
        "\n",
        "# # Binding tools for data collection\n",
        "# tools = [collect_name, collect_city]\n",
        "\n",
        "# llm_with_tools = llm.bind_tools(tools)\n",
        "\n",
        "# # System message\n",
        "# sys_msg = SystemMessage(\n",
        "#     content=\"You are a helpful assistant assisting users in creating and managing their profile information.\")\n",
        "\n",
        "# # Node for profile builder\n",
        "# def profile_builder(state: State):\n",
        "#     \"\"\"Builds the user's profile.\"\"\"\n",
        "#     print(\"----- Chatbot Node -----\")\n",
        "#     messages = state.get(\"messages\", [])\n",
        "#     messages.append(sys_msg)\n",
        "#     print(\"messages>>>>>>>>>>>>>>\", messages)\n",
        "#     return {\"messages\": [llm_with_tools.invoke(messages)]}\n",
        "\n",
        "# # Build graph\n",
        "# builder: StateGraph = StateGraph(State)\n",
        "# builder.add_node(\"profile_builder\", profile_builder)\n",
        "# builder.add_node(\"tools\", ToolNode(tools))\n",
        "# builder.add_edge(START, \"profile_builder\")\n",
        "# builder.add_conditional_edges(\n",
        "#     \"profile_builder\",\n",
        "#     tools_condition,\n",
        "# )\n",
        "# builder.add_edge(\"tools\", \"profile_builder\")\n",
        "\n",
        "# # Compile graph\n",
        "# graph: CompiledStateGraph = builder.compile()"
      ],
      "metadata": {
        "id": "cdaxfDv-jepx"
      },
      "execution_count": 70,
      "outputs": []
    },
    {
      "cell_type": "code",
      "source": [
        "from typing_extensions import Annotated,TypedDict\n",
        "from langgraph.graph.message import add_messages\n",
        "from langchain_core.messages import SystemMessage\n",
        "from langgraph.graph import START, StateGraph, MessagesState\n",
        "from langgraph.prebuilt import tools_condition, ToolNode\n",
        "from langgraph.graph.state import CompiledStateGraph\n",
        "\n",
        "class State(TypedDict):\n",
        "    messages:Annotated[list, add_messages]\n",
        "\n",
        "# Tools for profile data extraction or calculation can be added\n",
        "def collect_name(first_name: str, last_name: str) -> str:\n",
        "    \"\"\"Combines first name and last name into a full name.\"\"\"\n",
        "    return f\"{first_name} {last_name}\"\n",
        "\n",
        "def collect_city(city: str) -> str:\n",
        "    \"\"\"Returns the city name.\"\"\"\n",
        "    return city\n",
        "\n",
        "\n",
        "# Binding tools for data collection\n",
        "tools = [collect_name, collect_city]\n",
        "\n",
        "llm_with_tools = llm.bind_tools(tools)\n",
        "\n",
        "# System message\n",
        "sys_msg = SystemMessage(\n",
        "    content=\"You are a helpful assistant assisting users in creating and managing their profile information.\")\n",
        "\n",
        "# Node for profile builder\n",
        "def profile_builder(state: State):\n",
        "    \"\"\"Builds the user's profile.\"\"\"\n",
        "    messages = state.get(\"messages\", [])\n",
        "    # Prepend the system message at the beginning of the list of messages\n",
        "    messages = [sys_msg] + messages\n",
        "    # print(\"messages>>>>>>>>>>>>>>\", messages)\n",
        "    # Invoke the language model with the messages\n",
        "    res=llm_with_tools.invoke(messages)\n",
        "    # print(\"res>>>>>>>>>>>>>>\", res)\n",
        "    state[\"messages\"] = [res]\n",
        "    return state\n",
        "\n",
        "# Build graph\n",
        "builder: StateGraph = StateGraph(State)\n",
        "builder.add_node(\"profile_builder\", profile_builder)\n",
        "builder.add_node(\"tools\", ToolNode(tools))\n",
        "builder.add_edge(START, \"profile_builder\")\n",
        "builder.add_conditional_edges(\n",
        "    \"profile_builder\",\n",
        "    tools_condition,\n",
        ")\n",
        "builder.add_edge(\"tools\", \"profile_builder\")\n",
        "\n",
        "# Compile graph\n",
        "graph: CompiledStateGraph = builder.compile()"
      ],
      "metadata": {
        "id": "yN0cdg5p7BMk"
      },
      "execution_count": 119,
      "outputs": []
    },
    {
      "cell_type": "code",
      "source": [
        "from IPython.display import display, Image\n",
        "try:\n",
        "  display(Image(graph.get_graph().draw_mermaid_png()))\n",
        "\n",
        "except Exception as e:\n",
        "  pass"
      ],
      "metadata": {
        "colab": {
          "base_uri": "https://localhost:8080/",
          "height": 266
        },
        "id": "MZklRao4k7hw",
        "outputId": "23271b66-ea32-4226-a330-3766707081a8"
      },
      "execution_count": 120,
      "outputs": [
        {
          "output_type": "display_data",
          "data": {
            "image/png": "[encoded data removed]",
            "text/plain": [
              "<IPython.core.display.Image object>"
            ]
          },
          "metadata": {}
        }
      ]
    },
    {
      "cell_type": "code",
      "source": [
        "result = graph.invoke({\"messages\": \"what is my name and where do i live?\"})\n",
        "result [\"messages\"][-1].content"
      ],
      "metadata": {
        "colab": {
          "base_uri": "https://localhost:8080/",
          "height": 36
        },
        "id": "rVamQEIhnOB-",
        "outputId": "b7450674-a7a6-4c70-90b0-bea71a3a8364"
      },
      "execution_count": 121,
      "outputs": [
        {
          "output_type": "execute_result",
          "data": {
            "text/plain": [
              "'I need more information to answer.  What is your first name, last name, and city?\\n'"
            ],
            "application/vnd.google.colaboratory.intrinsic+json": {
              "type": "string"
            }
          },
          "metadata": {},
          "execution_count": 121
        }
      ]
    },
    {
      "cell_type": "code",
      "source": [
        "config = {\"configurable\":{\"thread_id\":\"7\"}}"
      ],
      "metadata": {
        "id": "heqVHQwXp3lW"
      },
      "execution_count": 122,
      "outputs": []
    },
    {
      "cell_type": "code",
      "source": [
        "# # Invoking Parameter for dynamic input\n",
        "# def stream_graph_updates(user_input: str):\n",
        "#     for events in graph.stream({\"messages\": user_input}, config, stream_mode=\"values\"):\n",
        "#         for event in events.values():\n",
        "#             # Check if 'event' has a 'messages' key\n",
        "#             if isinstance(event, dict) and \"messages\" in event:\n",
        "#                 # Access the last message\n",
        "#                 last_message = event[\"messages\"][-1]\n",
        "#                 print(last_message)\n",
        "#             else:\n",
        "\n",
        "#                 print(\"Unexpected event structure:\", event)\n",
        "\n",
        "# while True:\n",
        "#     try:\n",
        "#         user_input = input(\"\")\n",
        "#         if user_input.lower() in [\"quit\", \"exit\", \"q\"]:\n",
        "#             print(\"Goodbye!\")\n",
        "#             break\n",
        "\n",
        "#         stream_graph_updates(user_input)\n",
        "#     except Exception as e:\n",
        "#         print(f\"An error occurred: {e}\")\n",
        "#         break\n"
      ],
      "metadata": {
        "colab": {
          "base_uri": "https://localhost:8080/"
        },
        "id": "QfRWATg3z7Cj",
        "outputId": "9c243ffb-6d92-4dd1-a2a3-b4a1fd2e3b2b"
      },
      "execution_count": 96,
      "outputs": [
        {
          "output_type": "stream",
          "name": "stdout",
          "text": [
            "hello\n",
            "Unexpected event structure: [HumanMessage(content='hello', additional_kwargs={}, response_metadata={}, id='70a8d25e-5a76-49c7-9595-e68efc23ef4a')]\n",
            "messages>>>>>>>>>>>>>> [SystemMessage(content='You are a helpful assistant assisting users in creating and managing their profile information.', additional_kwargs={}, response_metadata={}), HumanMessage(content='hello', additional_kwargs={}, response_metadata={}, id='70a8d25e-5a76-49c7-9595-e68efc23ef4a')]\n",
            "res>>>>>>>>>>>>>> content='Hello! How can I help you today?\\n' additional_kwargs={} response_metadata={'prompt_feedback': {'block_reason': 0, 'safety_ratings': []}, 'finish_reason': 'STOP', 'safety_ratings': []} id='run-16318a4e-64a1-4bca-92fd-c4588a4858d0-0' usage_metadata={'input_tokens': 117, 'output_tokens': 10, 'total_tokens': 127, 'input_token_details': {'cache_read': 0}}\n",
            "Unexpected event structure: [HumanMessage(content='hello', additional_kwargs={}, response_metadata={}, id='70a8d25e-5a76-49c7-9595-e68efc23ef4a'), AIMessage(content='Hello! How can I help you today?\\n', additional_kwargs={}, response_metadata={'prompt_feedback': {'block_reason': 0, 'safety_ratings': []}, 'finish_reason': 'STOP', 'safety_ratings': []}, id='run-16318a4e-64a1-4bca-92fd-c4588a4858d0-0', usage_metadata={'input_tokens': 117, 'output_tokens': 10, 'total_tokens': 127, 'input_token_details': {'cache_read': 0}})]\n",
            "q\n",
            "Goodbye!\n"
          ]
        }
      ]
    },
    {
      "cell_type": "code",
      "source": [
        "# Invoking Parameter for dynamic input\n",
        "def stream_graph_updates(user_input: str):\n",
        "    # Ensure user input is correctly formatted as a list of messages\n",
        "    input_message = {\"messages\": user_input}\n",
        "\n",
        "    for events in graph.stream(input_message, config, stream_mode=\"values\"):\n",
        "        for event in events.values():\n",
        "            # Check if the event contains a list of messages\n",
        "            if isinstance(event, list):\n",
        "                # Access the last message in the list\n",
        "                last_message = event[-1]\n",
        "                print(\"Last AI Message:\", last_message)\n",
        "            else:\n",
        "                print(\"Unexpected event structure:\", event)\n",
        "\n",
        "while True:\n",
        "    try:\n",
        "        user_input = input(\"User: \")\n",
        "        if user_input.lower() in [\"quit\", \"exit\", \"q\"]:\n",
        "            print(\"Goodbye!\")\n",
        "            break\n",
        "\n",
        "        stream_graph_updates(user_input)\n",
        "    except Exception as e:\n",
        "        print(f\"An error occurred: {e}\")\n",
        "        break\n"
      ],
      "metadata": {
        "colab": {
          "base_uri": "https://localhost:8080/"
        },
        "id": "gevOVNXMB1Ax",
        "outputId": "56b52470-9da1-4747-d7fe-5d4a478fe60d"
      },
      "execution_count": 124,
      "outputs": [
        {
          "output_type": "stream",
          "name": "stdout",
          "text": [
            "User: hello\n",
            "Last AI Message: content='hello' additional_kwargs={} response_metadata={} id='c129a714-2e3d-48f7-937e-339396403b94'\n",
            "Last AI Message: content='Hello! How can I help you today?\\n' additional_kwargs={} response_metadata={'prompt_feedback': {'block_reason': 0, 'safety_ratings': []}, 'finish_reason': 'STOP', 'safety_ratings': []} id='run-6ecf6676-3052-4eca-9b49-42af3018c300-0' usage_metadata={'input_tokens': 117, 'output_tokens': 10, 'total_tokens': 127, 'input_token_details': {'cache_read': 0}}\n",
            "User: q\n",
            "Goodbye!\n"
          ]
        }
      ]
    },
    {
      "cell_type": "code",
      "source": [
        "# #Invoking Parameter for dynamic input\n",
        "# def stream_graph_updates(user_input: str):\n",
        "#     for events in graph.stream({\"messages\": [user_input]},config, stream_mode=\"values\"):\n",
        "#       for event in events.values():\n",
        "#            event[\"messages\"][-1]\n",
        "\n",
        "# while True:\n",
        "#     try:\n",
        "#         user_input = input(\"\")\n",
        "#         if user_input.lower() in [\"quit\", \"exit\", \"q\"]:\n",
        "#             print(\"Goodbye!\")\n",
        "#             break\n",
        "\n",
        "#         stream_graph_updates(user_input)\n",
        "#     except Exception as e:\n",
        "#         print(f\"An error occurred: {e}\")\n",
        "#         break\n"
      ],
      "metadata": {
        "colab": {
          "base_uri": "https://localhost:8080/"
        },
        "id": "a5JvbGopoqxk",
        "outputId": "e90495ec-97d4-4818-ab8c-871ae3d51e45"
      },
      "execution_count": 55,
      "outputs": [
        {
          "output_type": "stream",
          "name": "stdout",
          "text": [
            "hi\n",
            "An error occurred: list indices must be integers or slices, not str\n"
          ]
        }
      ]
    },
    {
      "cell_type": "code",
      "source": [
        "print(graph.invoke({\"messages\": [\"what is my name and where do i live?\"]}))\n"
      ],
      "metadata": {
        "colab": {
          "base_uri": "https://localhost:8080/"
        },
        "id": "mWC1H1M7szj4",
        "outputId": "9ceb0807-7961-431a-cc2d-924d9f8da131"
      },
      "execution_count": 105,
      "outputs": [
        {
          "output_type": "stream",
          "name": "stdout",
          "text": [
            "{'messages': [HumanMessage(content='what is my name and where do i live?', additional_kwargs={}, response_metadata={}, id='0969c01c-ba64-4c44-916e-9f9c12b2f1a4'), AIMessage(content='I need more information to answer.  What is your first name, last name, and city?\\n', additional_kwargs={}, response_metadata={'prompt_feedback': {'block_reason': 0, 'safety_ratings': []}, 'finish_reason': 'STOP', 'safety_ratings': []}, id='run-a2f8afb8-0669-41a4-ad95-31eafeda2e76-0', usage_metadata={'input_tokens': 126, 'output_tokens': 21, 'total_tokens': 147, 'input_token_details': {'cache_read': 0}})]}\n"
          ]
        }
      ]
    },
    {
      "cell_type": "code",
      "source": [
        "for events in graph.stream({\"messages\": \"what can you do for me?\"},config, stream_mode=\"values\"):\n",
        "  for event in events.values():\n",
        "    print(event[-1].content)"
      ],
      "metadata": {
        "colab": {
          "base_uri": "https://localhost:8080/"
        },
        "id": "vwe9z7Aotknw",
        "outputId": "e07f230b-39e2-4bb9-aa72-fd8fb52f641f"
      },
      "execution_count": 123,
      "outputs": [
        {
          "output_type": "stream",
          "name": "stdout",
          "text": [
            "what can you do for me?\n",
            "I can help you create and manage your profile information.  I can combine your first and last names to create a full name, and I can record your city.\n",
            "\n"
          ]
        }
      ]
    }
  ]
}